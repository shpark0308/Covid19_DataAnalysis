{
 "cells": [
  {
   "cell_type": "markdown",
   "metadata": {},
   "source": [
    "### 시간별로 지역별로 나눠서 어떤 사업이 가장 발달을 많이 했는지 얼마만큼의 비율로 그 전과 그 이후가 변했는지\n",
    "1. 월별로 나누기\n",
    "2. 지역별로 나누기\n",
    "    - 구 단위로 나누기\n",
    "    - 동 별로 나누기"
   ]
  },
  {
   "cell_type": "markdown",
   "metadata": {},
   "source": [
    "## 1. 라이브러리 불러오기"
   ]
  },
  {
   "cell_type": "code",
   "execution_count": 1,
   "metadata": {},
   "outputs": [],
   "source": [
    "import pandas as pd\n",
    "import numpy as np\n",
    "import os\n",
    "import matplotlib.pyplot as plt\n",
    "import seaborn as sns\n",
    "%matplotlib inline"
   ]
  },
  {
   "cell_type": "markdown",
   "metadata": {},
   "source": [
    "## 2. 폰트 설정"
   ]
  },
  {
   "cell_type": "code",
   "execution_count": 2,
   "metadata": {},
   "outputs": [],
   "source": [
    "plt.rc('font',family='Malgun Gothic')\n",
    "plt.rc('axes',unicode_minus=False)"
   ]
  },
  {
   "cell_type": "markdown",
   "metadata": {},
   "source": [
    "## 3. 데이터 불러오기"
   ]
  },
  {
   "cell_type": "code",
   "execution_count": 3,
   "metadata": {},
   "outputs": [],
   "source": [
    "df = pd.read_excel('./2020 빅콘테스트_CJ올리브네트웍스_제공DB.xlsx',sheet_name='Sheet1',encoding='cp494')"
   ]
  },
  {
   "cell_type": "code",
   "execution_count": 4,
   "metadata": {},
   "outputs": [
    {
     "data": {
      "text/html": [
       "<div>\n",
       "<style scoped>\n",
       "    .dataframe tbody tr th:only-of-type {\n",
       "        vertical-align: middle;\n",
       "    }\n",
       "\n",
       "    .dataframe tbody tr th {\n",
       "        vertical-align: top;\n",
       "    }\n",
       "\n",
       "    .dataframe thead th {\n",
       "        text-align: right;\n",
       "    }\n",
       "</style>\n",
       "<table border=\"1\" class=\"dataframe\">\n",
       "  <thead>\n",
       "    <tr style=\"text-align: right;\">\n",
       "      <th></th>\n",
       "      <th>DL_YMD</th>\n",
       "      <th>DL_GD_LCLS_NM</th>\n",
       "      <th>DL_GD_LCLS_CD</th>\n",
       "      <th>CTPV_NM</th>\n",
       "      <th>CTPV_CD</th>\n",
       "      <th>CTGG_NM</th>\n",
       "      <th>CTGG_CD</th>\n",
       "      <th>HDNG_NM</th>\n",
       "      <th>HDNG_CD</th>\n",
       "      <th>INVC_CONT</th>\n",
       "    </tr>\n",
       "  </thead>\n",
       "  <tbody>\n",
       "    <tr>\n",
       "      <th>156566</th>\n",
       "      <td>200531</td>\n",
       "      <td>패션의류</td>\n",
       "      <td>19</td>\n",
       "      <td>대구광역시</td>\n",
       "      <td>27</td>\n",
       "      <td>수성구</td>\n",
       "      <td>26</td>\n",
       "      <td>범물2동</td>\n",
       "      <td>662</td>\n",
       "      <td>22</td>\n",
       "    </tr>\n",
       "    <tr>\n",
       "      <th>156567</th>\n",
       "      <td>200531</td>\n",
       "      <td>패션의류</td>\n",
       "      <td>19</td>\n",
       "      <td>서울특별시</td>\n",
       "      <td>11</td>\n",
       "      <td>중구</td>\n",
       "      <td>14</td>\n",
       "      <td>약수동</td>\n",
       "      <td>635</td>\n",
       "      <td>21</td>\n",
       "    </tr>\n",
       "    <tr>\n",
       "      <th>156568</th>\n",
       "      <td>200531</td>\n",
       "      <td>패션잡화</td>\n",
       "      <td>20</td>\n",
       "      <td>대구광역시</td>\n",
       "      <td>27</td>\n",
       "      <td>수성구</td>\n",
       "      <td>26</td>\n",
       "      <td>범물2동</td>\n",
       "      <td>662</td>\n",
       "      <td>14</td>\n",
       "    </tr>\n",
       "    <tr>\n",
       "      <th>156569</th>\n",
       "      <td>200531</td>\n",
       "      <td>패션잡화</td>\n",
       "      <td>20</td>\n",
       "      <td>서울특별시</td>\n",
       "      <td>11</td>\n",
       "      <td>노원구</td>\n",
       "      <td>35</td>\n",
       "      <td>상계6.7동</td>\n",
       "      <td>695</td>\n",
       "      <td>25</td>\n",
       "    </tr>\n",
       "    <tr>\n",
       "      <th>156570</th>\n",
       "      <td>200531</td>\n",
       "      <td>화장품/미용</td>\n",
       "      <td>21</td>\n",
       "      <td>대구광역시</td>\n",
       "      <td>27</td>\n",
       "      <td>수성구</td>\n",
       "      <td>26</td>\n",
       "      <td>수성4가동</td>\n",
       "      <td>590</td>\n",
       "      <td>27</td>\n",
       "    </tr>\n",
       "  </tbody>\n",
       "</table>\n",
       "</div>"
      ],
      "text/plain": [
       "        DL_YMD DL_GD_LCLS_NM  DL_GD_LCLS_CD CTPV_NM  CTPV_CD CTGG_NM  CTGG_CD  \\\n",
       "156566  200531          패션의류             19   대구광역시       27     수성구       26   \n",
       "156567  200531          패션의류             19   서울특별시       11      중구       14   \n",
       "156568  200531          패션잡화             20   대구광역시       27     수성구       26   \n",
       "156569  200531          패션잡화             20   서울특별시       11     노원구       35   \n",
       "156570  200531        화장품/미용             21   대구광역시       27     수성구       26   \n",
       "\n",
       "       HDNG_NM  HDNG_CD  INVC_CONT  \n",
       "156566    범물2동      662         22  \n",
       "156567     약수동      635         21  \n",
       "156568    범물2동      662         14  \n",
       "156569  상계6.7동      695         25  \n",
       "156570   수성4가동      590         27  "
      ]
     },
     "execution_count": 4,
     "metadata": {},
     "output_type": "execute_result"
    }
   ],
   "source": [
    "df.tail()"
   ]
  },
  {
   "cell_type": "markdown",
   "metadata": {},
   "source": [
    "## 4. 데이터 살펴보기"
   ]
  },
  {
   "cell_type": "code",
   "execution_count": 5,
   "metadata": {},
   "outputs": [
    {
     "name": "stdout",
     "output_type": "stream",
     "text": [
      "<class 'pandas.core.frame.DataFrame'>\n",
      "RangeIndex: 156571 entries, 0 to 156570\n",
      "Data columns (total 10 columns):\n",
      " #   Column         Non-Null Count   Dtype \n",
      "---  ------         --------------   ----- \n",
      " 0   DL_YMD         156571 non-null  int64 \n",
      " 1   DL_GD_LCLS_NM  156571 non-null  object\n",
      " 2   DL_GD_LCLS_CD  156571 non-null  int64 \n",
      " 3   CTPV_NM        156571 non-null  object\n",
      " 4   CTPV_CD        156571 non-null  int64 \n",
      " 5   CTGG_NM        156571 non-null  object\n",
      " 6   CTGG_CD        156571 non-null  int64 \n",
      " 7   HDNG_NM        156571 non-null  object\n",
      " 8   HDNG_CD        156571 non-null  int64 \n",
      " 9   INVC_CONT      156571 non-null  int64 \n",
      "dtypes: int64(6), object(4)\n",
      "memory usage: 11.9+ MB\n"
     ]
    }
   ],
   "source": [
    "df.info()"
   ]
  },
  {
   "cell_type": "code",
   "execution_count": 7,
   "metadata": {},
   "outputs": [
    {
     "data": {
      "text/html": [
       "<div>\n",
       "<style scoped>\n",
       "    .dataframe tbody tr th:only-of-type {\n",
       "        vertical-align: middle;\n",
       "    }\n",
       "\n",
       "    .dataframe tbody tr th {\n",
       "        vertical-align: top;\n",
       "    }\n",
       "\n",
       "    .dataframe thead th {\n",
       "        text-align: right;\n",
       "    }\n",
       "</style>\n",
       "<table border=\"1\" class=\"dataframe\">\n",
       "  <thead>\n",
       "    <tr style=\"text-align: right;\">\n",
       "      <th></th>\n",
       "      <th>DL_YMD</th>\n",
       "      <th>DL_GD_LCLS_NM</th>\n",
       "      <th>DL_GD_LCLS_CD</th>\n",
       "      <th>CTPV_NM</th>\n",
       "      <th>CTPV_CD</th>\n",
       "      <th>CTGG_NM</th>\n",
       "      <th>CTGG_CD</th>\n",
       "      <th>HDNG_NM</th>\n",
       "      <th>HDNG_CD</th>\n",
       "      <th>INVC_CONT</th>\n",
       "      <th>DL_YM</th>\n",
       "      <th>DL_Y</th>\n",
       "    </tr>\n",
       "  </thead>\n",
       "  <tbody>\n",
       "    <tr>\n",
       "      <th>0</th>\n",
       "      <td>190201</td>\n",
       "      <td>도서/음반</td>\n",
       "      <td>12</td>\n",
       "      <td>서울특별시</td>\n",
       "      <td>11</td>\n",
       "      <td>중구</td>\n",
       "      <td>14</td>\n",
       "      <td>동화동</td>\n",
       "      <td>665</td>\n",
       "      <td>16</td>\n",
       "      <td>1902</td>\n",
       "      <td>19</td>\n",
       "    </tr>\n",
       "    <tr>\n",
       "      <th>1</th>\n",
       "      <td>190201</td>\n",
       "      <td>가구/인테리어</td>\n",
       "      <td>10</td>\n",
       "      <td>서울특별시</td>\n",
       "      <td>11</td>\n",
       "      <td>중구</td>\n",
       "      <td>14</td>\n",
       "      <td>신당동</td>\n",
       "      <td>615</td>\n",
       "      <td>4</td>\n",
       "      <td>1902</td>\n",
       "      <td>19</td>\n",
       "    </tr>\n",
       "    <tr>\n",
       "      <th>2</th>\n",
       "      <td>190201</td>\n",
       "      <td>가구/인테리어</td>\n",
       "      <td>10</td>\n",
       "      <td>대구광역시</td>\n",
       "      <td>27</td>\n",
       "      <td>중구</td>\n",
       "      <td>11</td>\n",
       "      <td>성내1동</td>\n",
       "      <td>565</td>\n",
       "      <td>1</td>\n",
       "      <td>1902</td>\n",
       "      <td>19</td>\n",
       "    </tr>\n",
       "    <tr>\n",
       "      <th>3</th>\n",
       "      <td>190201</td>\n",
       "      <td>도서/음반</td>\n",
       "      <td>12</td>\n",
       "      <td>대구광역시</td>\n",
       "      <td>27</td>\n",
       "      <td>중구</td>\n",
       "      <td>11</td>\n",
       "      <td>남산2동</td>\n",
       "      <td>650</td>\n",
       "      <td>6</td>\n",
       "      <td>1902</td>\n",
       "      <td>19</td>\n",
       "    </tr>\n",
       "    <tr>\n",
       "      <th>4</th>\n",
       "      <td>190201</td>\n",
       "      <td>디지털/가전</td>\n",
       "      <td>13</td>\n",
       "      <td>대구광역시</td>\n",
       "      <td>27</td>\n",
       "      <td>수성구</td>\n",
       "      <td>26</td>\n",
       "      <td>고산3동</td>\n",
       "      <td>690</td>\n",
       "      <td>21</td>\n",
       "      <td>1902</td>\n",
       "      <td>19</td>\n",
       "    </tr>\n",
       "  </tbody>\n",
       "</table>\n",
       "</div>"
      ],
      "text/plain": [
       "   DL_YMD DL_GD_LCLS_NM  DL_GD_LCLS_CD CTPV_NM  CTPV_CD CTGG_NM  CTGG_CD  \\\n",
       "0  190201         도서/음반             12   서울특별시       11      중구       14   \n",
       "1  190201       가구/인테리어             10   서울특별시       11      중구       14   \n",
       "2  190201       가구/인테리어             10   대구광역시       27      중구       11   \n",
       "3  190201         도서/음반             12   대구광역시       27      중구       11   \n",
       "4  190201        디지털/가전             13   대구광역시       27     수성구       26   \n",
       "\n",
       "  HDNG_NM  HDNG_CD  INVC_CONT DL_YM DL_Y  \n",
       "0     동화동      665         16  1902   19  \n",
       "1     신당동      615          4  1902   19  \n",
       "2    성내1동      565          1  1902   19  \n",
       "3    남산2동      650          6  1902   19  \n",
       "4    고산3동      690         21  1902   19  "
      ]
     },
     "execution_count": 7,
     "metadata": {},
     "output_type": "execute_result"
    }
   ],
   "source": [
    "df['DL_YM'] = df['DL_YMD'].map(lambda x : str(x)[0:4])\n",
    "df['DL_Y'] = df['DL_YMD'].map(lambda x : str(x)[0:2])\n",
    "df.head()"
   ]
  },
  {
   "cell_type": "code",
   "execution_count": 8,
   "metadata": {},
   "outputs": [
    {
     "name": "stdout",
     "output_type": "stream",
     "text": [
      "<class 'pandas.core.frame.DataFrame'>\n",
      "RangeIndex: 156571 entries, 0 to 156570\n",
      "Data columns (total 12 columns):\n",
      " #   Column         Non-Null Count   Dtype \n",
      "---  ------         --------------   ----- \n",
      " 0   DL_YMD         156571 non-null  int64 \n",
      " 1   DL_GD_LCLS_NM  156571 non-null  object\n",
      " 2   DL_GD_LCLS_CD  156571 non-null  int64 \n",
      " 3   CTPV_NM        156571 non-null  object\n",
      " 4   CTPV_CD        156571 non-null  int64 \n",
      " 5   CTGG_NM        156571 non-null  object\n",
      " 6   CTGG_CD        156571 non-null  int64 \n",
      " 7   HDNG_NM        156571 non-null  object\n",
      " 8   HDNG_CD        156571 non-null  int64 \n",
      " 9   INVC_CONT      156571 non-null  int64 \n",
      " 10  DL_YM          156571 non-null  object\n",
      " 11  DL_Y           156571 non-null  object\n",
      "dtypes: int64(6), object(6)\n",
      "memory usage: 14.3+ MB\n"
     ]
    }
   ],
   "source": [
    "df.info()"
   ]
  },
  {
   "cell_type": "markdown",
   "metadata": {},
   "source": [
    "## 5. 데이터 비교"
   ]
  },
  {
   "cell_type": "markdown",
   "metadata": {},
   "source": [
    "### <1>. 2019년 2020년 비교"
   ]
  },
  {
   "cell_type": "code",
   "execution_count": 9,
   "metadata": {},
   "outputs": [
    {
     "data": {
      "text/html": [
       "<div>\n",
       "<style scoped>\n",
       "    .dataframe tbody tr th:only-of-type {\n",
       "        vertical-align: middle;\n",
       "    }\n",
       "\n",
       "    .dataframe tbody tr th {\n",
       "        vertical-align: top;\n",
       "    }\n",
       "\n",
       "    .dataframe thead th {\n",
       "        text-align: right;\n",
       "    }\n",
       "</style>\n",
       "<table border=\"1\" class=\"dataframe\">\n",
       "  <thead>\n",
       "    <tr style=\"text-align: right;\">\n",
       "      <th></th>\n",
       "      <th>DL_YMD</th>\n",
       "      <th>DL_GD_LCLS_NM</th>\n",
       "      <th>DL_GD_LCLS_CD</th>\n",
       "      <th>CTPV_NM</th>\n",
       "      <th>CTPV_CD</th>\n",
       "      <th>CTGG_NM</th>\n",
       "      <th>CTGG_CD</th>\n",
       "      <th>HDNG_NM</th>\n",
       "      <th>HDNG_CD</th>\n",
       "      <th>INVC_CONT</th>\n",
       "      <th>DL_YM</th>\n",
       "      <th>DL_Y</th>\n",
       "    </tr>\n",
       "  </thead>\n",
       "  <tbody>\n",
       "    <tr>\n",
       "      <th>0</th>\n",
       "      <td>190201</td>\n",
       "      <td>도서/음반</td>\n",
       "      <td>12</td>\n",
       "      <td>서울특별시</td>\n",
       "      <td>11</td>\n",
       "      <td>중구</td>\n",
       "      <td>14</td>\n",
       "      <td>동화동</td>\n",
       "      <td>665</td>\n",
       "      <td>16</td>\n",
       "      <td>1902</td>\n",
       "      <td>19</td>\n",
       "    </tr>\n",
       "    <tr>\n",
       "      <th>1</th>\n",
       "      <td>190201</td>\n",
       "      <td>가구/인테리어</td>\n",
       "      <td>10</td>\n",
       "      <td>서울특별시</td>\n",
       "      <td>11</td>\n",
       "      <td>중구</td>\n",
       "      <td>14</td>\n",
       "      <td>신당동</td>\n",
       "      <td>615</td>\n",
       "      <td>4</td>\n",
       "      <td>1902</td>\n",
       "      <td>19</td>\n",
       "    </tr>\n",
       "    <tr>\n",
       "      <th>2</th>\n",
       "      <td>190201</td>\n",
       "      <td>가구/인테리어</td>\n",
       "      <td>10</td>\n",
       "      <td>대구광역시</td>\n",
       "      <td>27</td>\n",
       "      <td>중구</td>\n",
       "      <td>11</td>\n",
       "      <td>성내1동</td>\n",
       "      <td>565</td>\n",
       "      <td>1</td>\n",
       "      <td>1902</td>\n",
       "      <td>19</td>\n",
       "    </tr>\n",
       "    <tr>\n",
       "      <th>3</th>\n",
       "      <td>190201</td>\n",
       "      <td>도서/음반</td>\n",
       "      <td>12</td>\n",
       "      <td>대구광역시</td>\n",
       "      <td>27</td>\n",
       "      <td>중구</td>\n",
       "      <td>11</td>\n",
       "      <td>남산2동</td>\n",
       "      <td>650</td>\n",
       "      <td>6</td>\n",
       "      <td>1902</td>\n",
       "      <td>19</td>\n",
       "    </tr>\n",
       "    <tr>\n",
       "      <th>4</th>\n",
       "      <td>190201</td>\n",
       "      <td>디지털/가전</td>\n",
       "      <td>13</td>\n",
       "      <td>대구광역시</td>\n",
       "      <td>27</td>\n",
       "      <td>수성구</td>\n",
       "      <td>26</td>\n",
       "      <td>고산3동</td>\n",
       "      <td>690</td>\n",
       "      <td>21</td>\n",
       "      <td>1902</td>\n",
       "      <td>19</td>\n",
       "    </tr>\n",
       "    <tr>\n",
       "      <th>...</th>\n",
       "      <td>...</td>\n",
       "      <td>...</td>\n",
       "      <td>...</td>\n",
       "      <td>...</td>\n",
       "      <td>...</td>\n",
       "      <td>...</td>\n",
       "      <td>...</td>\n",
       "      <td>...</td>\n",
       "      <td>...</td>\n",
       "      <td>...</td>\n",
       "      <td>...</td>\n",
       "      <td>...</td>\n",
       "    </tr>\n",
       "    <tr>\n",
       "      <th>76887</th>\n",
       "      <td>190531</td>\n",
       "      <td>패션잡화</td>\n",
       "      <td>20</td>\n",
       "      <td>서울특별시</td>\n",
       "      <td>11</td>\n",
       "      <td>중구</td>\n",
       "      <td>14</td>\n",
       "      <td>청구동</td>\n",
       "      <td>645</td>\n",
       "      <td>55</td>\n",
       "      <td>1905</td>\n",
       "      <td>19</td>\n",
       "    </tr>\n",
       "    <tr>\n",
       "      <th>76888</th>\n",
       "      <td>190531</td>\n",
       "      <td>화장품/미용</td>\n",
       "      <td>21</td>\n",
       "      <td>대구광역시</td>\n",
       "      <td>27</td>\n",
       "      <td>수성구</td>\n",
       "      <td>26</td>\n",
       "      <td>범어2동</td>\n",
       "      <td>520</td>\n",
       "      <td>120</td>\n",
       "      <td>1905</td>\n",
       "      <td>19</td>\n",
       "    </tr>\n",
       "    <tr>\n",
       "      <th>76889</th>\n",
       "      <td>190531</td>\n",
       "      <td>화장품/미용</td>\n",
       "      <td>21</td>\n",
       "      <td>서울특별시</td>\n",
       "      <td>11</td>\n",
       "      <td>중구</td>\n",
       "      <td>14</td>\n",
       "      <td>다산동</td>\n",
       "      <td>625</td>\n",
       "      <td>74</td>\n",
       "      <td>1905</td>\n",
       "      <td>19</td>\n",
       "    </tr>\n",
       "    <tr>\n",
       "      <th>76890</th>\n",
       "      <td>190531</td>\n",
       "      <td>패션의류</td>\n",
       "      <td>19</td>\n",
       "      <td>대구광역시</td>\n",
       "      <td>27</td>\n",
       "      <td>중구</td>\n",
       "      <td>11</td>\n",
       "      <td>대신동</td>\n",
       "      <td>595</td>\n",
       "      <td>150</td>\n",
       "      <td>1905</td>\n",
       "      <td>19</td>\n",
       "    </tr>\n",
       "    <tr>\n",
       "      <th>76891</th>\n",
       "      <td>190531</td>\n",
       "      <td>패션잡화</td>\n",
       "      <td>20</td>\n",
       "      <td>서울특별시</td>\n",
       "      <td>11</td>\n",
       "      <td>중구</td>\n",
       "      <td>14</td>\n",
       "      <td>신당제5동</td>\n",
       "      <td>650</td>\n",
       "      <td>55</td>\n",
       "      <td>1905</td>\n",
       "      <td>19</td>\n",
       "    </tr>\n",
       "  </tbody>\n",
       "</table>\n",
       "<p>76892 rows × 12 columns</p>\n",
       "</div>"
      ],
      "text/plain": [
       "       DL_YMD DL_GD_LCLS_NM  DL_GD_LCLS_CD CTPV_NM  CTPV_CD CTGG_NM  CTGG_CD  \\\n",
       "0      190201         도서/음반             12   서울특별시       11      중구       14   \n",
       "1      190201       가구/인테리어             10   서울특별시       11      중구       14   \n",
       "2      190201       가구/인테리어             10   대구광역시       27      중구       11   \n",
       "3      190201         도서/음반             12   대구광역시       27      중구       11   \n",
       "4      190201        디지털/가전             13   대구광역시       27     수성구       26   \n",
       "...       ...           ...            ...     ...      ...     ...      ...   \n",
       "76887  190531          패션잡화             20   서울특별시       11      중구       14   \n",
       "76888  190531        화장품/미용             21   대구광역시       27     수성구       26   \n",
       "76889  190531        화장품/미용             21   서울특별시       11      중구       14   \n",
       "76890  190531          패션의류             19   대구광역시       27      중구       11   \n",
       "76891  190531          패션잡화             20   서울특별시       11      중구       14   \n",
       "\n",
       "      HDNG_NM  HDNG_CD  INVC_CONT DL_YM DL_Y  \n",
       "0         동화동      665         16  1902   19  \n",
       "1         신당동      615          4  1902   19  \n",
       "2        성내1동      565          1  1902   19  \n",
       "3        남산2동      650          6  1902   19  \n",
       "4        고산3동      690         21  1902   19  \n",
       "...       ...      ...        ...   ...  ...  \n",
       "76887     청구동      645         55  1905   19  \n",
       "76888    범어2동      520        120  1905   19  \n",
       "76889     다산동      625         74  1905   19  \n",
       "76890     대신동      595        150  1905   19  \n",
       "76891   신당제5동      650         55  1905   19  \n",
       "\n",
       "[76892 rows x 12 columns]"
      ]
     },
     "execution_count": 9,
     "metadata": {},
     "output_type": "execute_result"
    }
   ],
   "source": [
    "#  19년도 자료\n",
    "df_19 = df[df['DL_Y'].str.contains('19')].copy()\n",
    "df_19"
   ]
  },
  {
   "cell_type": "code",
   "execution_count": 10,
   "metadata": {},
   "outputs": [
    {
     "data": {
      "text/html": [
       "<div>\n",
       "<style scoped>\n",
       "    .dataframe tbody tr th:only-of-type {\n",
       "        vertical-align: middle;\n",
       "    }\n",
       "\n",
       "    .dataframe tbody tr th {\n",
       "        vertical-align: top;\n",
       "    }\n",
       "\n",
       "    .dataframe thead th {\n",
       "        text-align: right;\n",
       "    }\n",
       "</style>\n",
       "<table border=\"1\" class=\"dataframe\">\n",
       "  <thead>\n",
       "    <tr style=\"text-align: right;\">\n",
       "      <th></th>\n",
       "      <th>DL_YMD</th>\n",
       "      <th>DL_GD_LCLS_NM</th>\n",
       "      <th>DL_GD_LCLS_CD</th>\n",
       "      <th>CTPV_NM</th>\n",
       "      <th>CTPV_CD</th>\n",
       "      <th>CTGG_NM</th>\n",
       "      <th>CTGG_CD</th>\n",
       "      <th>HDNG_NM</th>\n",
       "      <th>HDNG_CD</th>\n",
       "      <th>INVC_CONT</th>\n",
       "      <th>DL_YM</th>\n",
       "      <th>DL_Y</th>\n",
       "    </tr>\n",
       "  </thead>\n",
       "  <tbody>\n",
       "    <tr>\n",
       "      <th>76892</th>\n",
       "      <td>200201</td>\n",
       "      <td>가구/인테리어</td>\n",
       "      <td>10</td>\n",
       "      <td>대구광역시</td>\n",
       "      <td>27</td>\n",
       "      <td>수성구</td>\n",
       "      <td>26</td>\n",
       "      <td>범어3동</td>\n",
       "      <td>530</td>\n",
       "      <td>3</td>\n",
       "      <td>2002</td>\n",
       "      <td>20</td>\n",
       "    </tr>\n",
       "    <tr>\n",
       "      <th>76893</th>\n",
       "      <td>200201</td>\n",
       "      <td>도서/음반</td>\n",
       "      <td>12</td>\n",
       "      <td>서울특별시</td>\n",
       "      <td>11</td>\n",
       "      <td>노원구</td>\n",
       "      <td>35</td>\n",
       "      <td>월계1동</td>\n",
       "      <td>560</td>\n",
       "      <td>24</td>\n",
       "      <td>2002</td>\n",
       "      <td>20</td>\n",
       "    </tr>\n",
       "    <tr>\n",
       "      <th>76894</th>\n",
       "      <td>200201</td>\n",
       "      <td>가구/인테리어</td>\n",
       "      <td>10</td>\n",
       "      <td>대구광역시</td>\n",
       "      <td>27</td>\n",
       "      <td>수성구</td>\n",
       "      <td>26</td>\n",
       "      <td>범물2동</td>\n",
       "      <td>662</td>\n",
       "      <td>3</td>\n",
       "      <td>2002</td>\n",
       "      <td>20</td>\n",
       "    </tr>\n",
       "    <tr>\n",
       "      <th>76895</th>\n",
       "      <td>200201</td>\n",
       "      <td>가구/인테리어</td>\n",
       "      <td>10</td>\n",
       "      <td>서울특별시</td>\n",
       "      <td>11</td>\n",
       "      <td>노원구</td>\n",
       "      <td>35</td>\n",
       "      <td>상계3.4동</td>\n",
       "      <td>665</td>\n",
       "      <td>4</td>\n",
       "      <td>2002</td>\n",
       "      <td>20</td>\n",
       "    </tr>\n",
       "    <tr>\n",
       "      <th>76896</th>\n",
       "      <td>200201</td>\n",
       "      <td>도서/음반</td>\n",
       "      <td>12</td>\n",
       "      <td>대구광역시</td>\n",
       "      <td>27</td>\n",
       "      <td>수성구</td>\n",
       "      <td>26</td>\n",
       "      <td>수성1가동</td>\n",
       "      <td>570</td>\n",
       "      <td>34</td>\n",
       "      <td>2002</td>\n",
       "      <td>20</td>\n",
       "    </tr>\n",
       "    <tr>\n",
       "      <th>...</th>\n",
       "      <td>...</td>\n",
       "      <td>...</td>\n",
       "      <td>...</td>\n",
       "      <td>...</td>\n",
       "      <td>...</td>\n",
       "      <td>...</td>\n",
       "      <td>...</td>\n",
       "      <td>...</td>\n",
       "      <td>...</td>\n",
       "      <td>...</td>\n",
       "      <td>...</td>\n",
       "      <td>...</td>\n",
       "    </tr>\n",
       "    <tr>\n",
       "      <th>156566</th>\n",
       "      <td>200531</td>\n",
       "      <td>패션의류</td>\n",
       "      <td>19</td>\n",
       "      <td>대구광역시</td>\n",
       "      <td>27</td>\n",
       "      <td>수성구</td>\n",
       "      <td>26</td>\n",
       "      <td>범물2동</td>\n",
       "      <td>662</td>\n",
       "      <td>22</td>\n",
       "      <td>2005</td>\n",
       "      <td>20</td>\n",
       "    </tr>\n",
       "    <tr>\n",
       "      <th>156567</th>\n",
       "      <td>200531</td>\n",
       "      <td>패션의류</td>\n",
       "      <td>19</td>\n",
       "      <td>서울특별시</td>\n",
       "      <td>11</td>\n",
       "      <td>중구</td>\n",
       "      <td>14</td>\n",
       "      <td>약수동</td>\n",
       "      <td>635</td>\n",
       "      <td>21</td>\n",
       "      <td>2005</td>\n",
       "      <td>20</td>\n",
       "    </tr>\n",
       "    <tr>\n",
       "      <th>156568</th>\n",
       "      <td>200531</td>\n",
       "      <td>패션잡화</td>\n",
       "      <td>20</td>\n",
       "      <td>대구광역시</td>\n",
       "      <td>27</td>\n",
       "      <td>수성구</td>\n",
       "      <td>26</td>\n",
       "      <td>범물2동</td>\n",
       "      <td>662</td>\n",
       "      <td>14</td>\n",
       "      <td>2005</td>\n",
       "      <td>20</td>\n",
       "    </tr>\n",
       "    <tr>\n",
       "      <th>156569</th>\n",
       "      <td>200531</td>\n",
       "      <td>패션잡화</td>\n",
       "      <td>20</td>\n",
       "      <td>서울특별시</td>\n",
       "      <td>11</td>\n",
       "      <td>노원구</td>\n",
       "      <td>35</td>\n",
       "      <td>상계6.7동</td>\n",
       "      <td>695</td>\n",
       "      <td>25</td>\n",
       "      <td>2005</td>\n",
       "      <td>20</td>\n",
       "    </tr>\n",
       "    <tr>\n",
       "      <th>156570</th>\n",
       "      <td>200531</td>\n",
       "      <td>화장품/미용</td>\n",
       "      <td>21</td>\n",
       "      <td>대구광역시</td>\n",
       "      <td>27</td>\n",
       "      <td>수성구</td>\n",
       "      <td>26</td>\n",
       "      <td>수성4가동</td>\n",
       "      <td>590</td>\n",
       "      <td>27</td>\n",
       "      <td>2005</td>\n",
       "      <td>20</td>\n",
       "    </tr>\n",
       "  </tbody>\n",
       "</table>\n",
       "<p>79679 rows × 12 columns</p>\n",
       "</div>"
      ],
      "text/plain": [
       "        DL_YMD DL_GD_LCLS_NM  DL_GD_LCLS_CD CTPV_NM  CTPV_CD CTGG_NM  CTGG_CD  \\\n",
       "76892   200201       가구/인테리어             10   대구광역시       27     수성구       26   \n",
       "76893   200201         도서/음반             12   서울특별시       11     노원구       35   \n",
       "76894   200201       가구/인테리어             10   대구광역시       27     수성구       26   \n",
       "76895   200201       가구/인테리어             10   서울특별시       11     노원구       35   \n",
       "76896   200201         도서/음반             12   대구광역시       27     수성구       26   \n",
       "...        ...           ...            ...     ...      ...     ...      ...   \n",
       "156566  200531          패션의류             19   대구광역시       27     수성구       26   \n",
       "156567  200531          패션의류             19   서울특별시       11      중구       14   \n",
       "156568  200531          패션잡화             20   대구광역시       27     수성구       26   \n",
       "156569  200531          패션잡화             20   서울특별시       11     노원구       35   \n",
       "156570  200531        화장품/미용             21   대구광역시       27     수성구       26   \n",
       "\n",
       "       HDNG_NM  HDNG_CD  INVC_CONT DL_YM DL_Y  \n",
       "76892     범어3동      530          3  2002   20  \n",
       "76893     월계1동      560         24  2002   20  \n",
       "76894     범물2동      662          3  2002   20  \n",
       "76895   상계3.4동      665          4  2002   20  \n",
       "76896    수성1가동      570         34  2002   20  \n",
       "...        ...      ...        ...   ...  ...  \n",
       "156566    범물2동      662         22  2005   20  \n",
       "156567     약수동      635         21  2005   20  \n",
       "156568    범물2동      662         14  2005   20  \n",
       "156569  상계6.7동      695         25  2005   20  \n",
       "156570   수성4가동      590         27  2005   20  \n",
       "\n",
       "[79679 rows x 12 columns]"
      ]
     },
     "execution_count": 10,
     "metadata": {},
     "output_type": "execute_result"
    }
   ],
   "source": [
    "#  20년도 자료\n",
    "df_20 = df[df['DL_YM'].str.contains('20')].copy()\n",
    "df_20"
   ]
  },
  {
   "cell_type": "code",
   "execution_count": 11,
   "metadata": {},
   "outputs": [
    {
     "data": {
      "text/plain": [
       "<matplotlib.axes._subplots.AxesSubplot at 0x200acbce948>"
      ]
     },
     "execution_count": 11,
     "metadata": {},
     "output_type": "execute_result"
    },
    {
     "data": {
      "image/png": "[encoded data removed]",
      "text/plain": [
       "<Figure size 432x288 with 1 Axes>"
      ]
     },
     "metadata": {
      "needs_background": "light"
     },
     "output_type": "display_data"
    }
   ],
   "source": [
    "sns.countplot(data=df_19,x='DL_YM')\n",
    "# 19년도 2월에는 소비가 거의 없다\n",
    "# 잦은 소비와 소비한 그 양은 다른 것같다"
   ]
  },
  {
   "cell_type": "code",
   "execution_count": 21,
   "metadata": {},
   "outputs": [
    {
     "data": {
      "text/html": [
       "<div>\n",
       "<style scoped>\n",
       "    .dataframe tbody tr th:only-of-type {\n",
       "        vertical-align: middle;\n",
       "    }\n",
       "\n",
       "    .dataframe tbody tr th {\n",
       "        vertical-align: top;\n",
       "    }\n",
       "\n",
       "    .dataframe thead th {\n",
       "        text-align: right;\n",
       "    }\n",
       "</style>\n",
       "<table border=\"1\" class=\"dataframe\">\n",
       "  <thead>\n",
       "    <tr style=\"text-align: right;\">\n",
       "      <th></th>\n",
       "      <th>INVC_CONT</th>\n",
       "    </tr>\n",
       "    <tr>\n",
       "      <th>DL_YM</th>\n",
       "      <th></th>\n",
       "    </tr>\n",
       "  </thead>\n",
       "  <tbody>\n",
       "    <tr>\n",
       "      <th>1902</th>\n",
       "      <td>1627147</td>\n",
       "    </tr>\n",
       "    <tr>\n",
       "      <th>1903</th>\n",
       "      <td>1977310</td>\n",
       "    </tr>\n",
       "    <tr>\n",
       "      <th>1904</th>\n",
       "      <td>2010280</td>\n",
       "    </tr>\n",
       "    <tr>\n",
       "      <th>1905</th>\n",
       "      <td>2048914</td>\n",
       "    </tr>\n",
       "  </tbody>\n",
       "</table>\n",
       "</div>"
      ],
      "text/plain": [
       "       INVC_CONT\n",
       "DL_YM           \n",
       "1902     1627147\n",
       "1903     1977310\n",
       "1904     2010280\n",
       "1905     2048914"
      ]
     },
     "execution_count": 21,
     "metadata": {},
     "output_type": "execute_result"
    }
   ],
   "source": [
    "df_19.pivot_table(index=['DL_YM'],values='INVC_CONT',aggfunc='sum')"
   ]
  },
  {
   "cell_type": "code",
   "execution_count": 22,
   "metadata": {},
   "outputs": [
    {
     "data": {
      "text/html": [
       "<div>\n",
       "<style scoped>\n",
       "    .dataframe tbody tr th:only-of-type {\n",
       "        vertical-align: middle;\n",
       "    }\n",
       "\n",
       "    .dataframe tbody tr th {\n",
       "        vertical-align: top;\n",
       "    }\n",
       "\n",
       "    .dataframe thead th {\n",
       "        text-align: right;\n",
       "    }\n",
       "</style>\n",
       "<table border=\"1\" class=\"dataframe\">\n",
       "  <thead>\n",
       "    <tr style=\"text-align: right;\">\n",
       "      <th></th>\n",
       "      <th>INVC_CONT</th>\n",
       "    </tr>\n",
       "    <tr>\n",
       "      <th>DL_YM</th>\n",
       "      <th></th>\n",
       "    </tr>\n",
       "  </thead>\n",
       "  <tbody>\n",
       "    <tr>\n",
       "      <th>1902</th>\n",
       "      <td>97.979587</td>\n",
       "    </tr>\n",
       "    <tr>\n",
       "      <th>1903</th>\n",
       "      <td>98.090584</td>\n",
       "    </tr>\n",
       "    <tr>\n",
       "      <th>1904</th>\n",
       "      <td>101.519038</td>\n",
       "    </tr>\n",
       "    <tr>\n",
       "      <th>1905</th>\n",
       "      <td>100.807577</td>\n",
       "    </tr>\n",
       "  </tbody>\n",
       "</table>\n",
       "</div>"
      ],
      "text/plain": [
       "        INVC_CONT\n",
       "DL_YM            \n",
       "1902    97.979587\n",
       "1903    98.090584\n",
       "1904   101.519038\n",
       "1905   100.807577"
      ]
     },
     "execution_count": 22,
     "metadata": {},
     "output_type": "execute_result"
    }
   ],
   "source": [
    "df_19.pivot_table(index=['DL_YM'],values='INVC_CONT',aggfunc='mean')"
   ]
  },
  {
   "cell_type": "code",
   "execution_count": 19,
   "metadata": {},
   "outputs": [
    {
     "data": {
      "text/plain": [
       "<matplotlib.axes._subplots.AxesSubplot at 0x200aaf7ad48>"
      ]
     },
     "execution_count": 19,
     "metadata": {},
     "output_type": "execute_result"
    },
    {
     "data": {
      "image/png": "[encoded data removed]",
      "text/plain": [
       "<Figure size 432x288 with 1 Axes>"
      ]
     },
     "metadata": {
      "needs_background": "light"
     },
     "output_type": "display_data"
    }
   ],
   "source": [
    "sns.lineplot(data=df_19,x='DL_YM',y='INVC_CONT') ## 이 그래프는 mean 값을 나타내는 거였음"
   ]
  },
  {
   "cell_type": "code",
   "execution_count": 12,
   "metadata": {},
   "outputs": [
    {
     "data": {
      "text/plain": [
       "<matplotlib.axes._subplots.AxesSubplot at 0x200a42a1088>"
      ]
     },
     "execution_count": 12,
     "metadata": {},
     "output_type": "execute_result"
    },
    {
     "data": {
      "image/png": "[encoded data removed]",
      "text/plain": [
       "<Figure size 432x288 with 1 Axes>"
      ]
     },
     "metadata": {
      "needs_background": "light"
     },
     "output_type": "display_data"
    }
   ],
   "source": [
    "sns.countplot(data=df_20,x='DL_YM')\n",
    "# 20년도 2월에는 소비의 소비가 많이 증가했다 -> 코로나 데이터로 쓸 수 있을것같음\n",
    "# 2월의 차이가 크다"
   ]
  },
  {
   "cell_type": "code",
   "execution_count": 24,
   "metadata": {},
   "outputs": [
    {
     "data": {
      "text/html": [
       "<div>\n",
       "<style scoped>\n",
       "    .dataframe tbody tr th:only-of-type {\n",
       "        vertical-align: middle;\n",
       "    }\n",
       "\n",
       "    .dataframe tbody tr th {\n",
       "        vertical-align: top;\n",
       "    }\n",
       "\n",
       "    .dataframe thead th {\n",
       "        text-align: right;\n",
       "    }\n",
       "</style>\n",
       "<table border=\"1\" class=\"dataframe\">\n",
       "  <thead>\n",
       "    <tr style=\"text-align: right;\">\n",
       "      <th></th>\n",
       "      <th>INVC_CONT</th>\n",
       "    </tr>\n",
       "    <tr>\n",
       "      <th>DL_YM</th>\n",
       "      <th></th>\n",
       "    </tr>\n",
       "  </thead>\n",
       "  <tbody>\n",
       "    <tr>\n",
       "      <th>2002</th>\n",
       "      <td>2348916</td>\n",
       "    </tr>\n",
       "    <tr>\n",
       "      <th>2003</th>\n",
       "      <td>2764249</td>\n",
       "    </tr>\n",
       "    <tr>\n",
       "      <th>2004</th>\n",
       "      <td>2438587</td>\n",
       "    </tr>\n",
       "    <tr>\n",
       "      <th>2005</th>\n",
       "      <td>2610071</td>\n",
       "    </tr>\n",
       "  </tbody>\n",
       "</table>\n",
       "</div>"
      ],
      "text/plain": [
       "       INVC_CONT\n",
       "DL_YM           \n",
       "2002     2348916\n",
       "2003     2764249\n",
       "2004     2438587\n",
       "2005     2610071"
      ]
     },
     "execution_count": 24,
     "metadata": {},
     "output_type": "execute_result"
    }
   ],
   "source": [
    "df_20.pivot_table(index=['DL_YM'],values='INVC_CONT',aggfunc='sum')"
   ]
  },
  {
   "cell_type": "code",
   "execution_count": 25,
   "metadata": {},
   "outputs": [
    {
     "data": {
      "text/html": [
       "<div>\n",
       "<style scoped>\n",
       "    .dataframe tbody tr th:only-of-type {\n",
       "        vertical-align: middle;\n",
       "    }\n",
       "\n",
       "    .dataframe tbody tr th {\n",
       "        vertical-align: top;\n",
       "    }\n",
       "\n",
       "    .dataframe thead th {\n",
       "        text-align: right;\n",
       "    }\n",
       "</style>\n",
       "<table border=\"1\" class=\"dataframe\">\n",
       "  <thead>\n",
       "    <tr style=\"text-align: right;\">\n",
       "      <th></th>\n",
       "      <th>INVC_CONT</th>\n",
       "    </tr>\n",
       "    <tr>\n",
       "      <th>DL_YM</th>\n",
       "      <th></th>\n",
       "    </tr>\n",
       "  </thead>\n",
       "  <tbody>\n",
       "    <tr>\n",
       "      <th>2002</th>\n",
       "      <td>123.173361</td>\n",
       "    </tr>\n",
       "    <tr>\n",
       "      <th>2003</th>\n",
       "      <td>134.762529</td>\n",
       "    </tr>\n",
       "    <tr>\n",
       "      <th>2004</th>\n",
       "      <td>124.284542</td>\n",
       "    </tr>\n",
       "    <tr>\n",
       "      <th>2005</th>\n",
       "      <td>127.469769</td>\n",
       "    </tr>\n",
       "  </tbody>\n",
       "</table>\n",
       "</div>"
      ],
      "text/plain": [
       "        INVC_CONT\n",
       "DL_YM            \n",
       "2002   123.173361\n",
       "2003   134.762529\n",
       "2004   124.284542\n",
       "2005   127.469769"
      ]
     },
     "execution_count": 25,
     "metadata": {},
     "output_type": "execute_result"
    }
   ],
   "source": [
    "df_20.pivot_table(index=['DL_YM'],values='INVC_CONT',aggfunc='mean')\n",
    "# 누가 봐도 확연한 차이로 소비량이 많이 증가함"
   ]
  },
  {
   "cell_type": "code",
   "execution_count": 26,
   "metadata": {
    "scrolled": true
   },
   "outputs": [
    {
     "data": {
      "text/plain": [
       "<matplotlib.axes._subplots.AxesSubplot at 0x200aafc2848>"
      ]
     },
     "execution_count": 26,
     "metadata": {},
     "output_type": "execute_result"
    },
    {
     "data": {
      "image/png": "[encoded data removed]",
      "text/plain": [
       "<Figure size 432x288 with 1 Axes>"
      ]
     },
     "metadata": {
      "needs_background": "light"
     },
     "output_type": "display_data"
    }
   ],
   "source": [
    "sns.lineplot(data=df_20,x='DL_YM',y='INVC_CONT') \n",
    "# 오히려 코로나 터지고 3월이 비이상적으로 증가한것같다\n",
    "# 코로나 터지고 전체적인 소비가 증가한 것은 맞다"
   ]
  },
  {
   "cell_type": "code",
   "execution_count": 18,
   "metadata": {
    "scrolled": true
   },
   "outputs": [
    {
     "data": {
      "text/plain": [
       "<matplotlib.axes._subplots.AxesSubplot at 0x200aaf22608>"
      ]
     },
     "execution_count": 18,
     "metadata": {},
     "output_type": "execute_result"
    },
    {
     "data": {
      "image/png": "[encoded data removed]",
      "text/plain": [
       "<Figure size 432x288 with 1 Axes>"
      ]
     },
     "metadata": {
      "needs_background": "light"
     },
     "output_type": "display_data"
    }
   ],
   "source": [
    "sns.lineplot(data=df_19,x='DL_YM',y='INVC_CONT')"
   ]
  },
  {
   "cell_type": "code",
   "execution_count": 36,
   "metadata": {},
   "outputs": [
    {
     "data": {
      "text/html": [
       "<div>\n",
       "<style scoped>\n",
       "    .dataframe tbody tr th:only-of-type {\n",
       "        vertical-align: middle;\n",
       "    }\n",
       "\n",
       "    .dataframe tbody tr th {\n",
       "        vertical-align: top;\n",
       "    }\n",
       "\n",
       "    .dataframe thead th {\n",
       "        text-align: right;\n",
       "    }\n",
       "</style>\n",
       "<table border=\"1\" class=\"dataframe\">\n",
       "  <thead>\n",
       "    <tr style=\"text-align: right;\">\n",
       "      <th></th>\n",
       "      <th>INVC_CONT</th>\n",
       "    </tr>\n",
       "    <tr>\n",
       "      <th>DL_YM</th>\n",
       "      <th></th>\n",
       "    </tr>\n",
       "  </thead>\n",
       "  <tbody>\n",
       "    <tr>\n",
       "      <th>1902</th>\n",
       "      <td>97.979587</td>\n",
       "    </tr>\n",
       "    <tr>\n",
       "      <th>1903</th>\n",
       "      <td>98.090584</td>\n",
       "    </tr>\n",
       "    <tr>\n",
       "      <th>1904</th>\n",
       "      <td>101.519038</td>\n",
       "    </tr>\n",
       "    <tr>\n",
       "      <th>1905</th>\n",
       "      <td>100.807577</td>\n",
       "    </tr>\n",
       "    <tr>\n",
       "      <th>2002</th>\n",
       "      <td>123.173361</td>\n",
       "    </tr>\n",
       "    <tr>\n",
       "      <th>2003</th>\n",
       "      <td>134.762529</td>\n",
       "    </tr>\n",
       "    <tr>\n",
       "      <th>2004</th>\n",
       "      <td>124.284542</td>\n",
       "    </tr>\n",
       "    <tr>\n",
       "      <th>2005</th>\n",
       "      <td>127.469769</td>\n",
       "    </tr>\n",
       "  </tbody>\n",
       "</table>\n",
       "</div>"
      ],
      "text/plain": [
       "        INVC_CONT\n",
       "DL_YM            \n",
       "1902    97.979587\n",
       "1903    98.090584\n",
       "1904   101.519038\n",
       "1905   100.807577\n",
       "2002   123.173361\n",
       "2003   134.762529\n",
       "2004   124.284542\n",
       "2005   127.469769"
      ]
     },
     "execution_count": 36,
     "metadata": {},
     "output_type": "execute_result"
    }
   ],
   "source": [
    "a = df_19.pivot_table(index=['DL_YM'],values='INVC_CONT',aggfunc='mean')['INVC_CONT']\n",
    "b = df_20.pivot_table(index=['DL_YM'],values='INVC_CONT',aggfunc='mean')['INVC_CONT']\n",
    "c = a.tolist()+b.tolist()\n",
    "df_a = df_19.pivot_table(index=['DL_YM'],values='INVC_CONT',aggfunc='mean') + df_20.pivot_table(index=['DL_YM'],values='INVC_CONT',aggfunc='mean')\n",
    "df_a['INVC_CONT'] = c\n",
    "df_a"
   ]
  },
  {
   "cell_type": "code",
   "execution_count": 49,
   "metadata": {},
   "outputs": [
    {
     "name": "stdout",
     "output_type": "stream",
     "text": [
      "25.193774379294126\n",
      "36.67194486779867\n",
      "22.76550359130799\n",
      "26.662192610459016\n"
     ]
    }
   ],
   "source": [
    "for i in range(0,4):\n",
    "    print(b[i]-a[i])"
   ]
  },
  {
   "cell_type": "code",
   "execution_count": 40,
   "metadata": {},
   "outputs": [
    {
     "data": {
      "text/html": [
       "<div>\n",
       "<style scoped>\n",
       "    .dataframe tbody tr th:only-of-type {\n",
       "        vertical-align: middle;\n",
       "    }\n",
       "\n",
       "    .dataframe tbody tr th {\n",
       "        vertical-align: top;\n",
       "    }\n",
       "\n",
       "    .dataframe thead th {\n",
       "        text-align: right;\n",
       "    }\n",
       "</style>\n",
       "<table border=\"1\" class=\"dataframe\">\n",
       "  <thead>\n",
       "    <tr style=\"text-align: right;\">\n",
       "      <th></th>\n",
       "      <th>DL_YM</th>\n",
       "      <th>INVC_CONT</th>\n",
       "    </tr>\n",
       "  </thead>\n",
       "  <tbody>\n",
       "    <tr>\n",
       "      <th>0</th>\n",
       "      <td>1902</td>\n",
       "      <td>97.979587</td>\n",
       "    </tr>\n",
       "    <tr>\n",
       "      <th>1</th>\n",
       "      <td>1903</td>\n",
       "      <td>98.090584</td>\n",
       "    </tr>\n",
       "    <tr>\n",
       "      <th>2</th>\n",
       "      <td>1904</td>\n",
       "      <td>101.519038</td>\n",
       "    </tr>\n",
       "    <tr>\n",
       "      <th>3</th>\n",
       "      <td>1905</td>\n",
       "      <td>100.807577</td>\n",
       "    </tr>\n",
       "    <tr>\n",
       "      <th>4</th>\n",
       "      <td>2002</td>\n",
       "      <td>123.173361</td>\n",
       "    </tr>\n",
       "    <tr>\n",
       "      <th>5</th>\n",
       "      <td>2003</td>\n",
       "      <td>134.762529</td>\n",
       "    </tr>\n",
       "    <tr>\n",
       "      <th>6</th>\n",
       "      <td>2004</td>\n",
       "      <td>124.284542</td>\n",
       "    </tr>\n",
       "    <tr>\n",
       "      <th>7</th>\n",
       "      <td>2005</td>\n",
       "      <td>127.469769</td>\n",
       "    </tr>\n",
       "  </tbody>\n",
       "</table>\n",
       "</div>"
      ],
      "text/plain": [
       "  DL_YM   INVC_CONT\n",
       "0  1902   97.979587\n",
       "1  1903   98.090584\n",
       "2  1904  101.519038\n",
       "3  1905  100.807577\n",
       "4  2002  123.173361\n",
       "5  2003  134.762529\n",
       "6  2004  124.284542\n",
       "7  2005  127.469769"
      ]
     },
     "execution_count": 40,
     "metadata": {},
     "output_type": "execute_result"
    }
   ],
   "source": [
    "df_b = df_a.reset_index().copy()\n",
    "df_b"
   ]
  },
  {
   "cell_type": "code",
   "execution_count": 41,
   "metadata": {},
   "outputs": [
    {
     "data": {
      "text/plain": [
       "<matplotlib.axes._subplots.AxesSubplot at 0x200a6641b08>"
      ]
     },
     "execution_count": 41,
     "metadata": {},
     "output_type": "execute_result"
    },
    {
     "data": {
      "image/png": "[encoded data removed]",
      "text/plain": [
       "<Figure size 432x288 with 1 Axes>"
      ]
     },
     "metadata": {
      "needs_background": "light"
     },
     "output_type": "display_data"
    }
   ],
   "source": [
    "sns.lineplot(data=df_b,x='DL_YM',y='INVC_CONT')\n",
    "# 한눈에 얼마나 이렇게 차이가 났는지 보는 시각자료를 나타냈음\n",
    "# 솔직하게 데이터를 분석만 하라면 할 수 있겠는데 어떤 결과를 내야할지는 잘 모르겠음"
   ]
  },
  {
   "cell_type": "markdown",
   "metadata": {},
   "source": [
    "### <2>. 2019년 2020년 상품별 집계"
   ]
  },
  {
   "cell_type": "code",
   "execution_count": 45,
   "metadata": {},
   "outputs": [
    {
     "data": {
      "text/plain": [
       "<matplotlib.axes._subplots.AxesSubplot at 0x200a9153408>"
      ]
     },
     "execution_count": 45,
     "metadata": {},
     "output_type": "execute_result"
    },
    {
     "data": {
      "image/png": "[encoded data removed]",
      "text/plain": [
       "<Figure size 1080x720 with 1 Axes>"
      ]
     },
     "metadata": {
      "needs_background": "light"
     },
     "output_type": "display_data"
    }
   ],
   "source": [
    "plt.figure(figsize=(15,10))\n",
    "sns.lineplot(data=df_19,x='DL_YM',y='INVC_CONT',hue='DL_GD_LCLS_NM')\n",
    "# 2019년은 패션의류, 식품, 생활건강 순으로 소비가 높게 측정되었다\n",
    "# 생활건강 : 주방용품 등"
   ]
  },
  {
   "cell_type": "code",
   "execution_count": 46,
   "metadata": {
    "scrolled": true
   },
   "outputs": [
    {
     "data": {
      "text/plain": [
       "<matplotlib.axes._subplots.AxesSubplot at 0x200a91f2d08>"
      ]
     },
     "execution_count": 46,
     "metadata": {},
     "output_type": "execute_result"
    },
    {
     "data": {
      "image/png": "[encoded data removed]",
      "text/plain": [
       "<Figure size 1080x720 with 1 Axes>"
      ]
     },
     "metadata": {
      "needs_background": "light"
     },
     "output_type": "display_data"
    }
   ],
   "source": [
    "plt.figure(figsize=(15,10))\n",
    "sns.lineplot(data=df_20,x='DL_YM',y='INVC_CONT',hue='DL_GD_LCLS_NM')\n",
    "# 여기 보이면 눈에 띄게 식품 , 생활건강, 패션의류 산업이 증가했다는 것을 알 수 있다"
   ]
  },
  {
   "cell_type": "code",
   "execution_count": 55,
   "metadata": {},
   "outputs": [
    {
     "data": {
      "text/html": [
       "<div>\n",
       "<style scoped>\n",
       "    .dataframe tbody tr th:only-of-type {\n",
       "        vertical-align: middle;\n",
       "    }\n",
       "\n",
       "    .dataframe tbody tr th {\n",
       "        vertical-align: top;\n",
       "    }\n",
       "\n",
       "    .dataframe thead th {\n",
       "        text-align: right;\n",
       "    }\n",
       "</style>\n",
       "<table border=\"1\" class=\"dataframe\">\n",
       "  <thead>\n",
       "    <tr style=\"text-align: right;\">\n",
       "      <th></th>\n",
       "      <th></th>\n",
       "      <th>INVC_CONT</th>\n",
       "    </tr>\n",
       "    <tr>\n",
       "      <th>DL_Y</th>\n",
       "      <th>DL_GD_LCLS_NM</th>\n",
       "      <th></th>\n",
       "    </tr>\n",
       "  </thead>\n",
       "  <tbody>\n",
       "    <tr>\n",
       "      <th rowspan=\"10\" valign=\"top\">19</th>\n",
       "      <th>가구/인테리어</th>\n",
       "      <td>35.087415</td>\n",
       "    </tr>\n",
       "    <tr>\n",
       "      <th>도서/음반</th>\n",
       "      <td>62.831733</td>\n",
       "    </tr>\n",
       "    <tr>\n",
       "      <th>디지털/가전</th>\n",
       "      <td>73.314933</td>\n",
       "    </tr>\n",
       "    <tr>\n",
       "      <th>생활건강</th>\n",
       "      <td>164.169537</td>\n",
       "    </tr>\n",
       "    <tr>\n",
       "      <th>스포츠/레저</th>\n",
       "      <td>12.984503</td>\n",
       "    </tr>\n",
       "    <tr>\n",
       "      <th>식품</th>\n",
       "      <td>199.915396</td>\n",
       "    </tr>\n",
       "    <tr>\n",
       "      <th>출산/육아</th>\n",
       "      <td>6.847213</td>\n",
       "    </tr>\n",
       "    <tr>\n",
       "      <th>패션의류</th>\n",
       "      <td>204.785316</td>\n",
       "    </tr>\n",
       "    <tr>\n",
       "      <th>패션잡화</th>\n",
       "      <td>76.118546</td>\n",
       "    </tr>\n",
       "    <tr>\n",
       "      <th>화장품/미용</th>\n",
       "      <td>118.926636</td>\n",
       "    </tr>\n",
       "    <tr>\n",
       "      <th rowspan=\"10\" valign=\"top\">20</th>\n",
       "      <th>가구/인테리어</th>\n",
       "      <td>43.933292</td>\n",
       "    </tr>\n",
       "    <tr>\n",
       "      <th>도서/음반</th>\n",
       "      <td>83.689589</td>\n",
       "    </tr>\n",
       "    <tr>\n",
       "      <th>디지털/가전</th>\n",
       "      <td>90.711608</td>\n",
       "    </tr>\n",
       "    <tr>\n",
       "      <th>생활건강</th>\n",
       "      <td>243.968608</td>\n",
       "    </tr>\n",
       "    <tr>\n",
       "      <th>스포츠/레저</th>\n",
       "      <td>14.643143</td>\n",
       "    </tr>\n",
       "    <tr>\n",
       "      <th>식품</th>\n",
       "      <td>309.646417</td>\n",
       "    </tr>\n",
       "    <tr>\n",
       "      <th>출산/육아</th>\n",
       "      <td>7.564249</td>\n",
       "    </tr>\n",
       "    <tr>\n",
       "      <th>패션의류</th>\n",
       "      <td>220.844530</td>\n",
       "    </tr>\n",
       "    <tr>\n",
       "      <th>패션잡화</th>\n",
       "      <td>78.489216</td>\n",
       "    </tr>\n",
       "    <tr>\n",
       "      <th>화장품/미용</th>\n",
       "      <td>131.443299</td>\n",
       "    </tr>\n",
       "  </tbody>\n",
       "</table>\n",
       "</div>"
      ],
      "text/plain": [
       "                     INVC_CONT\n",
       "DL_Y DL_GD_LCLS_NM            \n",
       "19   가구/인테리어         35.087415\n",
       "     도서/음반           62.831733\n",
       "     디지털/가전          73.314933\n",
       "     생활건강           164.169537\n",
       "     스포츠/레저          12.984503\n",
       "     식품             199.915396\n",
       "     출산/육아            6.847213\n",
       "     패션의류           204.785316\n",
       "     패션잡화            76.118546\n",
       "     화장품/미용         118.926636\n",
       "20   가구/인테리어         43.933292\n",
       "     도서/음반           83.689589\n",
       "     디지털/가전          90.711608\n",
       "     생활건강           243.968608\n",
       "     스포츠/레저          14.643143\n",
       "     식품             309.646417\n",
       "     출산/육아            7.564249\n",
       "     패션의류           220.844530\n",
       "     패션잡화            78.489216\n",
       "     화장품/미용         131.443299"
      ]
     },
     "execution_count": 55,
     "metadata": {},
     "output_type": "execute_result"
    }
   ],
   "source": [
    "# 다른 산업들도 비율적인 면에서 얼만큼 증가했는지를 알아볼 필요가 있음\n",
    "df.pivot_table(index=['DL_Y','DL_GD_LCLS_NM'],values='INVC_CONT') # 이건 mean -> sum도 따로 해줘야 함"
   ]
  },
  {
   "cell_type": "code",
   "execution_count": 92,
   "metadata": {},
   "outputs": [
    {
     "name": "stdout",
     "output_type": "stream",
     "text": [
      "25.21096584984324\n",
      "33.196373318141106\n",
      "23.728692736797733\n",
      "48.607720760947316\n",
      "12.773993725923564\n",
      "54.888729779116275\n",
      "10.47192911873033\n",
      "7.84197541752579\n",
      "3.1144445943995254\n",
      "10.524692553606464\n"
     ]
    },
    {
     "data": {
      "text/plain": [
       "[25.21096584984324,\n",
       " 33.196373318141106,\n",
       " 23.728692736797733,\n",
       " 48.607720760947316,\n",
       " 12.773993725923564,\n",
       " 54.888729779116275,\n",
       " 10.47192911873033,\n",
       " 7.84197541752579,\n",
       " 3.1144445943995254,\n",
       " 10.524692553606464]"
      ]
     },
     "execution_count": 92,
     "metadata": {},
     "output_type": "execute_result"
    }
   ],
   "source": [
    "df_d = df.pivot_table(index=['DL_Y','DL_GD_LCLS_NM'],values='INVC_CONT').copy()\n",
    "df_c = []\n",
    "for i in range(0,10): # 이게 좀 애매해서 잘 모르겠다 -> 전체 이 산업에 대한 기준으로 삼아야 하는데 그것을 잘 모르겠다\n",
    "    print((df_d.iloc[(10+i),0]-df_d.iloc[i,0])/df_d.iloc[(i),0]*100)\n",
    "    df_c.append((df_d.iloc[(10+i),0]-df_d.iloc[i,0])/df_d.iloc[(i),0]*100)\n",
    "df_c"
   ]
  },
  {
   "cell_type": "code",
   "execution_count": 90,
   "metadata": {},
   "outputs": [
    {
     "name": "stdout",
     "output_type": "stream",
     "text": [
      "20.134790654100527\n",
      "24.92288077457723\n",
      "19.178003268227098\n",
      "32.708745220000004\n",
      "11.327074003398694\n",
      "35.43752334814288\n",
      "9.479266997750683\n",
      "7.2717282738603854\n",
      "3.020376637482932\n",
      "9.522480732983537\n"
     ]
    }
   ],
   "source": [
    "for i in range(0,10): # 이게 좀 애매해서 잘 모르겠다 -> 전체 이 산업에 대한 기준으로 삼아야 하는데 그것을 잘 모르겠다\n",
    "    print((df_d.iloc[(10+i),0]-df_d.iloc[i,0])/df_d.iloc[(10+i),0]*100)\n",
    "## 순서는 비슷한것같아서 그냥 쓰기로 함"
   ]
  },
  {
   "cell_type": "code",
   "execution_count": 84,
   "metadata": {},
   "outputs": [
    {
     "data": {
      "text/html": [
       "<div>\n",
       "<style scoped>\n",
       "    .dataframe tbody tr th:only-of-type {\n",
       "        vertical-align: middle;\n",
       "    }\n",
       "\n",
       "    .dataframe tbody tr th {\n",
       "        vertical-align: top;\n",
       "    }\n",
       "\n",
       "    .dataframe thead th {\n",
       "        text-align: right;\n",
       "    }\n",
       "</style>\n",
       "<table border=\"1\" class=\"dataframe\">\n",
       "  <thead>\n",
       "    <tr style=\"text-align: right;\">\n",
       "      <th></th>\n",
       "      <th>INVC_CONT</th>\n",
       "    </tr>\n",
       "    <tr>\n",
       "      <th>DL_GD_LCLS_NM</th>\n",
       "      <th></th>\n",
       "    </tr>\n",
       "  </thead>\n",
       "  <tbody>\n",
       "    <tr>\n",
       "      <th>식품</th>\n",
       "      <td>54.888730</td>\n",
       "    </tr>\n",
       "    <tr>\n",
       "      <th>생활건강</th>\n",
       "      <td>48.607721</td>\n",
       "    </tr>\n",
       "    <tr>\n",
       "      <th>도서/음반</th>\n",
       "      <td>33.196373</td>\n",
       "    </tr>\n",
       "    <tr>\n",
       "      <th>가구/인테리어</th>\n",
       "      <td>25.210966</td>\n",
       "    </tr>\n",
       "    <tr>\n",
       "      <th>디지털/가전</th>\n",
       "      <td>23.728693</td>\n",
       "    </tr>\n",
       "    <tr>\n",
       "      <th>스포츠/레저</th>\n",
       "      <td>12.773994</td>\n",
       "    </tr>\n",
       "    <tr>\n",
       "      <th>화장품/미용</th>\n",
       "      <td>10.524693</td>\n",
       "    </tr>\n",
       "    <tr>\n",
       "      <th>출산/육아</th>\n",
       "      <td>10.471929</td>\n",
       "    </tr>\n",
       "    <tr>\n",
       "      <th>패션의류</th>\n",
       "      <td>7.841975</td>\n",
       "    </tr>\n",
       "    <tr>\n",
       "      <th>패션잡화</th>\n",
       "      <td>3.114445</td>\n",
       "    </tr>\n",
       "  </tbody>\n",
       "</table>\n",
       "</div>"
      ],
      "text/plain": [
       "               INVC_CONT\n",
       "DL_GD_LCLS_NM           \n",
       "식품             54.888730\n",
       "생활건강           48.607721\n",
       "도서/음반          33.196373\n",
       "가구/인테리어        25.210966\n",
       "디지털/가전         23.728693\n",
       "스포츠/레저         12.773994\n",
       "화장품/미용         10.524693\n",
       "출산/육아          10.471929\n",
       "패션의류            7.841975\n",
       "패션잡화            3.114445"
      ]
     },
     "execution_count": 84,
     "metadata": {},
     "output_type": "execute_result"
    }
   ],
   "source": [
    "df_e = df_19.pivot_table(index=['DL_GD_LCLS_NM'],values='INVC_CONT')\n",
    "df_e = df_e.drop('INVC_CONT',axis=1)\n",
    "df_e['INVC_CONT'] = df_c\n",
    "df_e.sort_values(by='INVC_CONT',ascending=False)\n",
    "# 사실 패션의류 패션잡화가 거의 증가를 하지 못한거였고 오히려 도서/음반 -> 인테리어 산업이 더 많이 증가했다는 것을 알 수 있다\n",
    "# 하지만 기존의 그 산업에 대한 각각의 증가량을 알 지 못하니까 그에 비한 얼만큼의 흥망성쇠를 알 수 없는 것이다"
   ]
  },
  {
   "cell_type": "code",
   "execution_count": 104,
   "metadata": {},
   "outputs": [
    {
     "data": {
      "text/plain": [
       "<matplotlib.axes._subplots.AxesSubplot at 0x200a920c408>"
      ]
     },
     "execution_count": 104,
     "metadata": {},
     "output_type": "execute_result"
    },
    {
     "data": {
      "image/png": "[encoded data removed]",
      "text/plain": [
       "<Figure size 432x288 with 1 Axes>"
      ]
     },
     "metadata": {
      "needs_background": "light"
     },
     "output_type": "display_data"
    }
   ],
   "source": [
    "df_f = df_e.reset_index()\n",
    "plt.xticks(rotation=60)\n",
    "sns.barplot(data=df_f, x='DL_GD_LCLS_NM',y='INVC_CONT')"
   ]
  },
  {
   "cell_type": "code",
   "execution_count": 89,
   "metadata": {},
   "outputs": [
    {
     "name": "stdout",
     "output_type": "stream",
     "text": [
      "  DL_GD_LCLS_NM   INVC_CONT\n",
      "7          패션의류  204.785316\n",
      "5            식품  199.915396\n",
      "3          생활건강  164.169537\n",
      "9        화장품/미용  118.926636\n",
      "8          패션잡화   76.118546\n",
      "2        디지털/가전   73.314933\n",
      "1         도서/음반   62.831733\n",
      "0       가구/인테리어   35.087415\n",
      "4        스포츠/레저   12.984503\n",
      "6         출산/육아    6.847213\n",
      "  DL_GD_LCLS_NM   INVC_CONT\n",
      "5            식품  309.646417\n",
      "3          생활건강  243.968608\n",
      "7          패션의류  220.844530\n",
      "9        화장품/미용  131.443299\n",
      "2        디지털/가전   90.711608\n",
      "1         도서/음반   83.689589\n",
      "8          패션잡화   78.489216\n",
      "0       가구/인테리어   43.933292\n",
      "4        스포츠/레저   14.643143\n",
      "6         출산/육아    7.564249\n"
     ]
    }
   ],
   "source": [
    "# 소비가 원래 높은거랑 코로나로 증가한 거랑은 다른 의미이니까\n",
    "# 각 산업별로 19와 20의 그림을 시각화 해야할 것같다\n",
    "print(df_19.pivot_table(index=['DL_GD_LCLS_NM'],values='INVC_CONT').reset_index().sort_values(by='INVC_CONT',ascending=False))\n",
    "print(df_20.pivot_table(index=['DL_GD_LCLS_NM'],values='INVC_CONT').reset_index().sort_values(by='INVC_CONT',ascending=False))"
   ]
  },
  {
   "cell_type": "code",
   "execution_count": null,
   "metadata": {},
   "outputs": [],
   "source": [
    "#각 산업에서 어떤 산업이 얼마만큼 증가했고 얼마만큼 망했는지 \n",
    "#단순히 이 산업이 항상 잘 되었는데 또 잘되었다가 아니라"
   ]
  },
  {
   "cell_type": "markdown",
   "metadata": {},
   "source": [
    "### <3>. 지역별 분석"
   ]
  },
  {
   "cell_type": "code",
   "execution_count": 115,
   "metadata": {},
   "outputs": [
    {
     "data": {
      "text/html": [
       "<div>\n",
       "<style scoped>\n",
       "    .dataframe tbody tr th:only-of-type {\n",
       "        vertical-align: middle;\n",
       "    }\n",
       "\n",
       "    .dataframe tbody tr th {\n",
       "        vertical-align: top;\n",
       "    }\n",
       "\n",
       "    .dataframe thead th {\n",
       "        text-align: right;\n",
       "    }\n",
       "</style>\n",
       "<table border=\"1\" class=\"dataframe\">\n",
       "  <thead>\n",
       "    <tr style=\"text-align: right;\">\n",
       "      <th></th>\n",
       "      <th></th>\n",
       "      <th>CTGG_CD</th>\n",
       "      <th>CTPV_CD</th>\n",
       "      <th>DL_GD_LCLS_CD</th>\n",
       "      <th>DL_YMD</th>\n",
       "      <th>HDNG_CD</th>\n",
       "      <th>INVC_CONT</th>\n",
       "    </tr>\n",
       "    <tr>\n",
       "      <th>DL_Y</th>\n",
       "      <th>CTGG_NM</th>\n",
       "      <th></th>\n",
       "      <th></th>\n",
       "      <th></th>\n",
       "      <th></th>\n",
       "      <th></th>\n",
       "      <th></th>\n",
       "    </tr>\n",
       "  </thead>\n",
       "  <tbody>\n",
       "    <tr>\n",
       "      <th rowspan=\"3\" valign=\"top\">19</th>\n",
       "      <th>노원구</th>\n",
       "      <td>35.000000</td>\n",
       "      <td>11.000000</td>\n",
       "      <td>16.091327</td>\n",
       "      <td>190372.280519</td>\n",
       "      <td>633.946150</td>\n",
       "      <td>136.480056</td>\n",
       "    </tr>\n",
       "    <tr>\n",
       "      <th>수성구</th>\n",
       "      <td>26.000000</td>\n",
       "      <td>27.000000</td>\n",
       "      <td>16.079736</td>\n",
       "      <td>190372.908696</td>\n",
       "      <td>603.677407</td>\n",
       "      <td>91.538432</td>\n",
       "    </tr>\n",
       "    <tr>\n",
       "      <th>중구</th>\n",
       "      <td>12.691127</td>\n",
       "      <td>17.980657</td>\n",
       "      <td>16.085283</td>\n",
       "      <td>190373.349283</td>\n",
       "      <td>611.162045</td>\n",
       "      <td>79.910422</td>\n",
       "    </tr>\n",
       "    <tr>\n",
       "      <th rowspan=\"3\" valign=\"top\">20</th>\n",
       "      <th>노원구</th>\n",
       "      <td>35.000000</td>\n",
       "      <td>11.000000</td>\n",
       "      <td>16.076557</td>\n",
       "      <td>200367.795864</td>\n",
       "      <td>634.009485</td>\n",
       "      <td>173.946595</td>\n",
       "    </tr>\n",
       "    <tr>\n",
       "      <th>수성구</th>\n",
       "      <td>26.000000</td>\n",
       "      <td>27.000000</td>\n",
       "      <td>16.074538</td>\n",
       "      <td>200367.683691</td>\n",
       "      <td>603.607921</td>\n",
       "      <td>128.630039</td>\n",
       "    </tr>\n",
       "    <tr>\n",
       "      <th>중구</th>\n",
       "      <td>12.684731</td>\n",
       "      <td>18.014771</td>\n",
       "      <td>16.077407</td>\n",
       "      <td>200367.657635</td>\n",
       "      <td>611.396198</td>\n",
       "      <td>92.914604</td>\n",
       "    </tr>\n",
       "  </tbody>\n",
       "</table>\n",
       "</div>"
      ],
      "text/plain": [
       "                CTGG_CD    CTPV_CD  DL_GD_LCLS_CD         DL_YMD     HDNG_CD  \\\n",
       "DL_Y CTGG_NM                                                                   \n",
       "19   노원구      35.000000  11.000000      16.091327  190372.280519  633.946150   \n",
       "     수성구      26.000000  27.000000      16.079736  190372.908696  603.677407   \n",
       "     중구       12.691127  17.980657      16.085283  190373.349283  611.162045   \n",
       "20   노원구      35.000000  11.000000      16.076557  200367.795864  634.009485   \n",
       "     수성구      26.000000  27.000000      16.074538  200367.683691  603.607921   \n",
       "     중구       12.684731  18.014771      16.077407  200367.657635  611.396198   \n",
       "\n",
       "               INVC_CONT  \n",
       "DL_Y CTGG_NM              \n",
       "19   노원구      136.480056  \n",
       "     수성구       91.538432  \n",
       "     중구        79.910422  \n",
       "20   노원구      173.946595  \n",
       "     수성구      128.630039  \n",
       "     중구        92.914604  "
      ]
     },
     "execution_count": 115,
     "metadata": {},
     "output_type": "execute_result"
    }
   ],
   "source": [
    "# 년도 별 지역과 같이 결합해서 볼 필요가 있음\n",
    "df.pivot_table(index=['DL_Y','CTGG_NM'])\n",
    "# 이렇게 보면 중구가 같은 중구가 아님에도 불구하고 같다고 나오는 결과를 초래하게 됨"
   ]
  },
  {
   "cell_type": "code",
   "execution_count": 118,
   "metadata": {},
   "outputs": [
    {
     "data": {
      "text/html": [
       "<div>\n",
       "<style scoped>\n",
       "    .dataframe tbody tr th:only-of-type {\n",
       "        vertical-align: middle;\n",
       "    }\n",
       "\n",
       "    .dataframe tbody tr th {\n",
       "        vertical-align: top;\n",
       "    }\n",
       "\n",
       "    .dataframe thead th {\n",
       "        text-align: right;\n",
       "    }\n",
       "</style>\n",
       "<table border=\"1\" class=\"dataframe\">\n",
       "  <thead>\n",
       "    <tr style=\"text-align: right;\">\n",
       "      <th></th>\n",
       "      <th>DL_YMD</th>\n",
       "      <th>DL_GD_LCLS_NM</th>\n",
       "      <th>DL_GD_LCLS_CD</th>\n",
       "      <th>CTPV_NM</th>\n",
       "      <th>CTPV_CD</th>\n",
       "      <th>CTGG_NM</th>\n",
       "      <th>CTGG_CD</th>\n",
       "      <th>HDNG_NM</th>\n",
       "      <th>HDNG_CD</th>\n",
       "      <th>INVC_CONT</th>\n",
       "      <th>DL_YM</th>\n",
       "      <th>DL_Y</th>\n",
       "      <th>CTPVGG</th>\n",
       "    </tr>\n",
       "  </thead>\n",
       "  <tbody>\n",
       "    <tr>\n",
       "      <th>0</th>\n",
       "      <td>190201</td>\n",
       "      <td>도서/음반</td>\n",
       "      <td>12</td>\n",
       "      <td>서울특별시</td>\n",
       "      <td>11</td>\n",
       "      <td>중구</td>\n",
       "      <td>14</td>\n",
       "      <td>동화동</td>\n",
       "      <td>665</td>\n",
       "      <td>16</td>\n",
       "      <td>1902</td>\n",
       "      <td>19</td>\n",
       "      <td>서울특별시 중구</td>\n",
       "    </tr>\n",
       "    <tr>\n",
       "      <th>1</th>\n",
       "      <td>190201</td>\n",
       "      <td>가구/인테리어</td>\n",
       "      <td>10</td>\n",
       "      <td>서울특별시</td>\n",
       "      <td>11</td>\n",
       "      <td>중구</td>\n",
       "      <td>14</td>\n",
       "      <td>신당동</td>\n",
       "      <td>615</td>\n",
       "      <td>4</td>\n",
       "      <td>1902</td>\n",
       "      <td>19</td>\n",
       "      <td>서울특별시 중구</td>\n",
       "    </tr>\n",
       "    <tr>\n",
       "      <th>2</th>\n",
       "      <td>190201</td>\n",
       "      <td>가구/인테리어</td>\n",
       "      <td>10</td>\n",
       "      <td>대구광역시</td>\n",
       "      <td>27</td>\n",
       "      <td>중구</td>\n",
       "      <td>11</td>\n",
       "      <td>성내1동</td>\n",
       "      <td>565</td>\n",
       "      <td>1</td>\n",
       "      <td>1902</td>\n",
       "      <td>19</td>\n",
       "      <td>대구광역시 중구</td>\n",
       "    </tr>\n",
       "    <tr>\n",
       "      <th>3</th>\n",
       "      <td>190201</td>\n",
       "      <td>도서/음반</td>\n",
       "      <td>12</td>\n",
       "      <td>대구광역시</td>\n",
       "      <td>27</td>\n",
       "      <td>중구</td>\n",
       "      <td>11</td>\n",
       "      <td>남산2동</td>\n",
       "      <td>650</td>\n",
       "      <td>6</td>\n",
       "      <td>1902</td>\n",
       "      <td>19</td>\n",
       "      <td>대구광역시 중구</td>\n",
       "    </tr>\n",
       "    <tr>\n",
       "      <th>4</th>\n",
       "      <td>190201</td>\n",
       "      <td>디지털/가전</td>\n",
       "      <td>13</td>\n",
       "      <td>대구광역시</td>\n",
       "      <td>27</td>\n",
       "      <td>수성구</td>\n",
       "      <td>26</td>\n",
       "      <td>고산3동</td>\n",
       "      <td>690</td>\n",
       "      <td>21</td>\n",
       "      <td>1902</td>\n",
       "      <td>19</td>\n",
       "      <td>대구광역시 수성구</td>\n",
       "    </tr>\n",
       "  </tbody>\n",
       "</table>\n",
       "</div>"
      ],
      "text/plain": [
       "   DL_YMD DL_GD_LCLS_NM  DL_GD_LCLS_CD CTPV_NM  CTPV_CD CTGG_NM  CTGG_CD  \\\n",
       "0  190201         도서/음반             12   서울특별시       11      중구       14   \n",
       "1  190201       가구/인테리어             10   서울특별시       11      중구       14   \n",
       "2  190201       가구/인테리어             10   대구광역시       27      중구       11   \n",
       "3  190201         도서/음반             12   대구광역시       27      중구       11   \n",
       "4  190201        디지털/가전             13   대구광역시       27     수성구       26   \n",
       "\n",
       "  HDNG_NM  HDNG_CD  INVC_CONT DL_YM DL_Y     CTPVGG  \n",
       "0     동화동      665         16  1902   19   서울특별시 중구  \n",
       "1     신당동      615          4  1902   19   서울특별시 중구  \n",
       "2    성내1동      565          1  1902   19   대구광역시 중구  \n",
       "3    남산2동      650          6  1902   19   대구광역시 중구  \n",
       "4    고산3동      690         21  1902   19  대구광역시 수성구  "
      ]
     },
     "execution_count": 118,
     "metadata": {},
     "output_type": "execute_result"
    }
   ],
   "source": [
    "df['CTPVGG'] = df['CTPV_NM']+str(\" \")+df['CTGG_NM']\n",
    "df.head()"
   ]
  },
  {
   "cell_type": "code",
   "execution_count": 172,
   "metadata": {},
   "outputs": [
    {
     "data": {
      "text/html": [
       "<div>\n",
       "<style scoped>\n",
       "    .dataframe tbody tr th:only-of-type {\n",
       "        vertical-align: middle;\n",
       "    }\n",
       "\n",
       "    .dataframe tbody tr th {\n",
       "        vertical-align: top;\n",
       "    }\n",
       "\n",
       "    .dataframe thead th {\n",
       "        text-align: right;\n",
       "    }\n",
       "</style>\n",
       "<table border=\"1\" class=\"dataframe\">\n",
       "  <thead>\n",
       "    <tr style=\"text-align: right;\">\n",
       "      <th></th>\n",
       "      <th></th>\n",
       "      <th>INVC_CONT</th>\n",
       "    </tr>\n",
       "    <tr>\n",
       "      <th>DL_Y</th>\n",
       "      <th>CTPVGG</th>\n",
       "      <th></th>\n",
       "    </tr>\n",
       "  </thead>\n",
       "  <tbody>\n",
       "    <tr>\n",
       "      <th rowspan=\"4\" valign=\"top\">19</th>\n",
       "      <th>대구광역시 수성구</th>\n",
       "      <td>91.538432</td>\n",
       "    </tr>\n",
       "    <tr>\n",
       "      <th>대구광역시 중구</th>\n",
       "      <td>55.565804</td>\n",
       "    </tr>\n",
       "    <tr>\n",
       "      <th>서울특별시 노원구</th>\n",
       "      <td>136.480056</td>\n",
       "    </tr>\n",
       "    <tr>\n",
       "      <th>서울특별시 중구</th>\n",
       "      <td>98.752310</td>\n",
       "    </tr>\n",
       "    <tr>\n",
       "      <th rowspan=\"4\" valign=\"top\">20</th>\n",
       "      <th>대구광역시 수성구</th>\n",
       "      <td>128.630039</td>\n",
       "    </tr>\n",
       "    <tr>\n",
       "      <th>대구광역시 중구</th>\n",
       "      <td>65.133348</td>\n",
       "    </tr>\n",
       "    <tr>\n",
       "      <th>서울특별시 노원구</th>\n",
       "      <td>173.946595</td>\n",
       "    </tr>\n",
       "    <tr>\n",
       "      <th>서울특별시 중구</th>\n",
       "      <td>114.603437</td>\n",
       "    </tr>\n",
       "  </tbody>\n",
       "</table>\n",
       "</div>"
      ],
      "text/plain": [
       "                 INVC_CONT\n",
       "DL_Y CTPVGG               \n",
       "19   대구광역시 수성구   91.538432\n",
       "     대구광역시 중구    55.565804\n",
       "     서울특별시 노원구  136.480056\n",
       "     서울특별시 중구    98.752310\n",
       "20   대구광역시 수성구  128.630039\n",
       "     대구광역시 중구    65.133348\n",
       "     서울특별시 노원구  173.946595\n",
       "     서울특별시 중구   114.603437"
      ]
     },
     "execution_count": 172,
     "metadata": {},
     "output_type": "execute_result"
    }
   ],
   "source": [
    "df_k = df.pivot_table(index=['DL_Y','CTPVGG'],values='INVC_CONT',aggfunc='mean')\n",
    "df_k\n",
    "# 그럼 지역별로 어느 곳에서 소비를 많이 했나를 알 수 있다"
   ]
  },
  {
   "cell_type": "code",
   "execution_count": 173,
   "metadata": {},
   "outputs": [
    {
     "data": {
      "text/plain": [
       "<matplotlib.axes._subplots.AxesSubplot at 0x200a5e04348>"
      ]
     },
     "execution_count": 173,
     "metadata": {},
     "output_type": "execute_result"
    },
    {
     "data": {
      "image/png": "[encoded data removed]",
      "text/plain": [
       "<Figure size 432x288 with 1 Axes>"
      ]
     },
     "metadata": {
      "needs_background": "light"
     },
     "output_type": "display_data"
    }
   ],
   "source": [
    "sns.barplot(data=df_k.reset_index(), x='CTPVGG',y='INVC_CONT',hue='DL_Y')\n",
    "# 원래 소비는 노원구에서 많이 했고 서울이 대구보다는 좀 더 소비를 많이 하는 편이다\n",
    "# 일단은 코로나 이후에 더 많은 소비가 증가했다는 것을 알 수 있다"
   ]
  },
  {
   "cell_type": "code",
   "execution_count": 132,
   "metadata": {},
   "outputs": [
    {
     "name": "stdout",
     "output_type": "stream",
     "text": [
      "46.00251057026416\n",
      "22.1608012163312\n",
      "31.501405262853822\n",
      "19.90121497921578\n"
     ]
    }
   ],
   "source": [
    "for i in range(0,4):\n",
    "    print((df_k.iloc[(4+i),0]-df_k.iloc[i,0])/df_k.iloc[i,0]*100)"
   ]
  },
  {
   "cell_type": "code",
   "execution_count": 133,
   "metadata": {},
   "outputs": [
    {
     "data": {
      "text/html": [
       "<div>\n",
       "<style scoped>\n",
       "    .dataframe tbody tr th:only-of-type {\n",
       "        vertical-align: middle;\n",
       "    }\n",
       "\n",
       "    .dataframe tbody tr th {\n",
       "        vertical-align: top;\n",
       "    }\n",
       "\n",
       "    .dataframe thead th {\n",
       "        text-align: right;\n",
       "    }\n",
       "</style>\n",
       "<table border=\"1\" class=\"dataframe\">\n",
       "  <thead>\n",
       "    <tr style=\"text-align: right;\">\n",
       "      <th></th>\n",
       "      <th>DL_YMD</th>\n",
       "      <th>DL_GD_LCLS_NM</th>\n",
       "      <th>DL_GD_LCLS_CD</th>\n",
       "      <th>CTPV_NM</th>\n",
       "      <th>CTPV_CD</th>\n",
       "      <th>CTGG_NM</th>\n",
       "      <th>CTGG_CD</th>\n",
       "      <th>HDNG_NM</th>\n",
       "      <th>HDNG_CD</th>\n",
       "      <th>INVC_CONT</th>\n",
       "      <th>DL_YM</th>\n",
       "      <th>DL_Y</th>\n",
       "      <th>CTPVGG</th>\n",
       "    </tr>\n",
       "  </thead>\n",
       "  <tbody>\n",
       "    <tr>\n",
       "      <th>0</th>\n",
       "      <td>190201</td>\n",
       "      <td>도서/음반</td>\n",
       "      <td>12</td>\n",
       "      <td>서울특별시</td>\n",
       "      <td>11</td>\n",
       "      <td>중구</td>\n",
       "      <td>14</td>\n",
       "      <td>동화동</td>\n",
       "      <td>665</td>\n",
       "      <td>16</td>\n",
       "      <td>1902</td>\n",
       "      <td>19</td>\n",
       "      <td>서울특별시 중구</td>\n",
       "    </tr>\n",
       "    <tr>\n",
       "      <th>1</th>\n",
       "      <td>190201</td>\n",
       "      <td>가구/인테리어</td>\n",
       "      <td>10</td>\n",
       "      <td>서울특별시</td>\n",
       "      <td>11</td>\n",
       "      <td>중구</td>\n",
       "      <td>14</td>\n",
       "      <td>신당동</td>\n",
       "      <td>615</td>\n",
       "      <td>4</td>\n",
       "      <td>1902</td>\n",
       "      <td>19</td>\n",
       "      <td>서울특별시 중구</td>\n",
       "    </tr>\n",
       "    <tr>\n",
       "      <th>2</th>\n",
       "      <td>190201</td>\n",
       "      <td>가구/인테리어</td>\n",
       "      <td>10</td>\n",
       "      <td>대구광역시</td>\n",
       "      <td>27</td>\n",
       "      <td>중구</td>\n",
       "      <td>11</td>\n",
       "      <td>성내1동</td>\n",
       "      <td>565</td>\n",
       "      <td>1</td>\n",
       "      <td>1902</td>\n",
       "      <td>19</td>\n",
       "      <td>대구광역시 중구</td>\n",
       "    </tr>\n",
       "    <tr>\n",
       "      <th>3</th>\n",
       "      <td>190201</td>\n",
       "      <td>도서/음반</td>\n",
       "      <td>12</td>\n",
       "      <td>대구광역시</td>\n",
       "      <td>27</td>\n",
       "      <td>중구</td>\n",
       "      <td>11</td>\n",
       "      <td>남산2동</td>\n",
       "      <td>650</td>\n",
       "      <td>6</td>\n",
       "      <td>1902</td>\n",
       "      <td>19</td>\n",
       "      <td>대구광역시 중구</td>\n",
       "    </tr>\n",
       "    <tr>\n",
       "      <th>4</th>\n",
       "      <td>190201</td>\n",
       "      <td>디지털/가전</td>\n",
       "      <td>13</td>\n",
       "      <td>대구광역시</td>\n",
       "      <td>27</td>\n",
       "      <td>수성구</td>\n",
       "      <td>26</td>\n",
       "      <td>고산3동</td>\n",
       "      <td>690</td>\n",
       "      <td>21</td>\n",
       "      <td>1902</td>\n",
       "      <td>19</td>\n",
       "      <td>대구광역시 수성구</td>\n",
       "    </tr>\n",
       "  </tbody>\n",
       "</table>\n",
       "</div>"
      ],
      "text/plain": [
       "   DL_YMD DL_GD_LCLS_NM  DL_GD_LCLS_CD CTPV_NM  CTPV_CD CTGG_NM  CTGG_CD  \\\n",
       "0  190201         도서/음반             12   서울특별시       11      중구       14   \n",
       "1  190201       가구/인테리어             10   서울특별시       11      중구       14   \n",
       "2  190201       가구/인테리어             10   대구광역시       27      중구       11   \n",
       "3  190201         도서/음반             12   대구광역시       27      중구       11   \n",
       "4  190201        디지털/가전             13   대구광역시       27     수성구       26   \n",
       "\n",
       "  HDNG_NM  HDNG_CD  INVC_CONT DL_YM DL_Y     CTPVGG  \n",
       "0     동화동      665         16  1902   19   서울특별시 중구  \n",
       "1     신당동      615          4  1902   19   서울특별시 중구  \n",
       "2    성내1동      565          1  1902   19   대구광역시 중구  \n",
       "3    남산2동      650          6  1902   19   대구광역시 중구  \n",
       "4    고산3동      690         21  1902   19  대구광역시 수성구  "
      ]
     },
     "execution_count": 133,
     "metadata": {},
     "output_type": "execute_result"
    }
   ],
   "source": [
    "df.head()"
   ]
  },
  {
   "cell_type": "code",
   "execution_count": 147,
   "metadata": {},
   "outputs": [
    {
     "data": {
      "text/html": [
       "<div>\n",
       "<style scoped>\n",
       "    .dataframe tbody tr th:only-of-type {\n",
       "        vertical-align: middle;\n",
       "    }\n",
       "\n",
       "    .dataframe tbody tr th {\n",
       "        vertical-align: top;\n",
       "    }\n",
       "\n",
       "    .dataframe thead th {\n",
       "        text-align: right;\n",
       "    }\n",
       "</style>\n",
       "<table border=\"1\" class=\"dataframe\">\n",
       "  <thead>\n",
       "    <tr style=\"text-align: right;\">\n",
       "      <th></th>\n",
       "      <th>CTPVGG</th>\n",
       "      <th>HDNG_NM</th>\n",
       "      <th>CTGG_CD</th>\n",
       "    </tr>\n",
       "  </thead>\n",
       "  <tbody>\n",
       "    <tr>\n",
       "      <th>0</th>\n",
       "      <td>대구광역시 수성구</td>\n",
       "      <td>고산1동</td>\n",
       "      <td>2325</td>\n",
       "    </tr>\n",
       "    <tr>\n",
       "      <th>1</th>\n",
       "      <td>대구광역시 수성구</td>\n",
       "      <td>고산2동</td>\n",
       "      <td>2318</td>\n",
       "    </tr>\n",
       "    <tr>\n",
       "      <th>2</th>\n",
       "      <td>대구광역시 수성구</td>\n",
       "      <td>고산3동</td>\n",
       "      <td>2330</td>\n",
       "    </tr>\n",
       "    <tr>\n",
       "      <th>3</th>\n",
       "      <td>대구광역시 수성구</td>\n",
       "      <td>두산동</td>\n",
       "      <td>2275</td>\n",
       "    </tr>\n",
       "    <tr>\n",
       "      <th>4</th>\n",
       "      <td>대구광역시 수성구</td>\n",
       "      <td>만촌1동</td>\n",
       "      <td>2306</td>\n",
       "    </tr>\n",
       "    <tr>\n",
       "      <th>5</th>\n",
       "      <td>대구광역시 수성구</td>\n",
       "      <td>만촌2동</td>\n",
       "      <td>2257</td>\n",
       "    </tr>\n",
       "    <tr>\n",
       "      <th>6</th>\n",
       "      <td>대구광역시 수성구</td>\n",
       "      <td>만촌3동</td>\n",
       "      <td>2279</td>\n",
       "    </tr>\n",
       "    <tr>\n",
       "      <th>7</th>\n",
       "      <td>대구광역시 수성구</td>\n",
       "      <td>범물1동</td>\n",
       "      <td>2235</td>\n",
       "    </tr>\n",
       "    <tr>\n",
       "      <th>8</th>\n",
       "      <td>대구광역시 수성구</td>\n",
       "      <td>범물2동</td>\n",
       "      <td>2285</td>\n",
       "    </tr>\n",
       "    <tr>\n",
       "      <th>9</th>\n",
       "      <td>대구광역시 수성구</td>\n",
       "      <td>범어1동</td>\n",
       "      <td>2270</td>\n",
       "    </tr>\n",
       "    <tr>\n",
       "      <th>10</th>\n",
       "      <td>대구광역시 수성구</td>\n",
       "      <td>범어2동</td>\n",
       "      <td>2284</td>\n",
       "    </tr>\n",
       "    <tr>\n",
       "      <th>11</th>\n",
       "      <td>대구광역시 수성구</td>\n",
       "      <td>범어3동</td>\n",
       "      <td>2306</td>\n",
       "    </tr>\n",
       "    <tr>\n",
       "      <th>12</th>\n",
       "      <td>대구광역시 수성구</td>\n",
       "      <td>범어4동</td>\n",
       "      <td>2256</td>\n",
       "    </tr>\n",
       "    <tr>\n",
       "      <th>13</th>\n",
       "      <td>대구광역시 수성구</td>\n",
       "      <td>상동</td>\n",
       "      <td>2289</td>\n",
       "    </tr>\n",
       "    <tr>\n",
       "      <th>14</th>\n",
       "      <td>대구광역시 수성구</td>\n",
       "      <td>수성1가동</td>\n",
       "      <td>2293</td>\n",
       "    </tr>\n",
       "    <tr>\n",
       "      <th>15</th>\n",
       "      <td>대구광역시 수성구</td>\n",
       "      <td>수성2.3가동</td>\n",
       "      <td>2262</td>\n",
       "    </tr>\n",
       "    <tr>\n",
       "      <th>16</th>\n",
       "      <td>대구광역시 수성구</td>\n",
       "      <td>수성4가동</td>\n",
       "      <td>2282</td>\n",
       "    </tr>\n",
       "    <tr>\n",
       "      <th>17</th>\n",
       "      <td>대구광역시 수성구</td>\n",
       "      <td>중동</td>\n",
       "      <td>2265</td>\n",
       "    </tr>\n",
       "    <tr>\n",
       "      <th>18</th>\n",
       "      <td>대구광역시 수성구</td>\n",
       "      <td>지산1동</td>\n",
       "      <td>2304</td>\n",
       "    </tr>\n",
       "    <tr>\n",
       "      <th>19</th>\n",
       "      <td>대구광역시 수성구</td>\n",
       "      <td>지산2동</td>\n",
       "      <td>2285</td>\n",
       "    </tr>\n",
       "    <tr>\n",
       "      <th>20</th>\n",
       "      <td>대구광역시 수성구</td>\n",
       "      <td>파동</td>\n",
       "      <td>2265</td>\n",
       "    </tr>\n",
       "    <tr>\n",
       "      <th>21</th>\n",
       "      <td>대구광역시 수성구</td>\n",
       "      <td>황금1동</td>\n",
       "      <td>2300</td>\n",
       "    </tr>\n",
       "    <tr>\n",
       "      <th>22</th>\n",
       "      <td>대구광역시 수성구</td>\n",
       "      <td>황금2동</td>\n",
       "      <td>2254</td>\n",
       "    </tr>\n",
       "  </tbody>\n",
       "</table>\n",
       "</div>"
      ],
      "text/plain": [
       "       CTPVGG  HDNG_NM  CTGG_CD\n",
       "0   대구광역시 수성구     고산1동     2325\n",
       "1   대구광역시 수성구     고산2동     2318\n",
       "2   대구광역시 수성구     고산3동     2330\n",
       "3   대구광역시 수성구      두산동     2275\n",
       "4   대구광역시 수성구     만촌1동     2306\n",
       "5   대구광역시 수성구     만촌2동     2257\n",
       "6   대구광역시 수성구     만촌3동     2279\n",
       "7   대구광역시 수성구     범물1동     2235\n",
       "8   대구광역시 수성구     범물2동     2285\n",
       "9   대구광역시 수성구     범어1동     2270\n",
       "10  대구광역시 수성구     범어2동     2284\n",
       "11  대구광역시 수성구     범어3동     2306\n",
       "12  대구광역시 수성구     범어4동     2256\n",
       "13  대구광역시 수성구       상동     2289\n",
       "14  대구광역시 수성구    수성1가동     2293\n",
       "15  대구광역시 수성구  수성2.3가동     2262\n",
       "16  대구광역시 수성구    수성4가동     2282\n",
       "17  대구광역시 수성구       중동     2265\n",
       "18  대구광역시 수성구     지산1동     2304\n",
       "19  대구광역시 수성구     지산2동     2285\n",
       "20  대구광역시 수성구       파동     2265\n",
       "21  대구광역시 수성구     황금1동     2300\n",
       "22  대구광역시 수성구     황금2동     2254"
      ]
     },
     "execution_count": 147,
     "metadata": {},
     "output_type": "execute_result"
    }
   ],
   "source": [
    "df_g = df.pivot_table(index=['CTPVGG','HDNG_NM'],values='CTGG_CD',aggfunc='count').reset_index()\n",
    "df_g[df_g['CTPVGG']=='대구광역시 수성구']\n",
    "# 지도로 표현하려면 경도와 위도의 데이터를 가져와야한다는 것을 알았다"
   ]
  },
  {
   "cell_type": "code",
   "execution_count": 152,
   "metadata": {},
   "outputs": [
    {
     "name": "stdout",
     "output_type": "stream",
     "text": [
      "대구광역시 수성구 : 23\n",
      "대구광역시 중구 : 12\n",
      "서울특별시 노원구 : 23\n",
      "서울특별시 중구 : 23\n"
     ]
    }
   ],
   "source": [
    "print(\"대구광역시 수성구 : \"+str(df_g.loc[df_g['CTPVGG']=='대구광역시 수성구','HDNG_NM'].nunique()))\n",
    "print(\"대구광역시 중구 : \"+str(df_g.loc[df_g['CTPVGG']=='대구광역시 중구','HDNG_NM'].nunique()))\n",
    "print(\"서울특별시 노원구 : \"+str(df_g.loc[df_g['CTPVGG']=='대구광역시 수성구','HDNG_NM'].nunique()))\n",
    "print(\"서울특별시 중구 : \"+str(df_g.loc[df_g['CTPVGG']=='대구광역시 수성구','HDNG_NM'].nunique()))"
   ]
  },
  {
   "cell_type": "code",
   "execution_count": 179,
   "metadata": {},
   "outputs": [
    {
     "data": {
      "text/plain": [
       "<matplotlib.axes._subplots.AxesSubplot at 0x200a56c5e08>"
      ]
     },
     "execution_count": 179,
     "metadata": {},
     "output_type": "execute_result"
    },
    {
     "data": {
      "image/png": "[encoded data removed]",
      "text/plain": [
       "<Figure size 1440x648 with 1 Axes>"
      ]
     },
     "metadata": {
      "needs_background": "light"
     },
     "output_type": "display_data"
    }
   ],
   "source": [
    "# 그럼 일단은 구 별로 어떤 소비가 증가했는지 알고 싶었음\n",
    "# 지역별로 알아보기\n",
    "plt.figure(figsize=(20,9))\n",
    "sns.barplot(data=df[df['DL_Y']=='19'],x='CTPVGG',y='INVC_CONT',hue='DL_GD_LCLS_NM')"
   ]
  },
  {
   "cell_type": "code",
   "execution_count": 182,
   "metadata": {},
   "outputs": [
    {
     "data": {
      "text/plain": [
       "<matplotlib.axes._subplots.AxesSubplot at 0x200a82f69c8>"
      ]
     },
     "execution_count": 182,
     "metadata": {},
     "output_type": "execute_result"
    },
    {
     "data": {
      "image/png": "[encoded data removed]",
      "text/plain": [
       "<Figure size 1080x432 with 1 Axes>"
      ]
     },
     "metadata": {
      "needs_background": "light"
     },
     "output_type": "display_data"
    }
   ],
   "source": [
    "df_SG = df[df['CTPVGG']=='서울특별시 중구']\n",
    "plt.figure(figsize=(15,6))\n",
    "sns.barplot(data=df_SG,x='DL_GD_LCLS_NM',y='INVC_CONT',hue='DL_Y')"
   ]
  },
  {
   "cell_type": "code",
   "execution_count": 186,
   "metadata": {},
   "outputs": [
    {
     "data": {
      "text/html": [
       "<div>\n",
       "<style scoped>\n",
       "    .dataframe tbody tr th:only-of-type {\n",
       "        vertical-align: middle;\n",
       "    }\n",
       "\n",
       "    .dataframe tbody tr th {\n",
       "        vertical-align: top;\n",
       "    }\n",
       "\n",
       "    .dataframe thead th {\n",
       "        text-align: right;\n",
       "    }\n",
       "</style>\n",
       "<table border=\"1\" class=\"dataframe\">\n",
       "  <thead>\n",
       "    <tr style=\"text-align: right;\">\n",
       "      <th></th>\n",
       "      <th></th>\n",
       "      <th>INVC_CONT</th>\n",
       "    </tr>\n",
       "    <tr>\n",
       "      <th>DL_Y</th>\n",
       "      <th>DL_GD_LCLS_NM</th>\n",
       "      <th></th>\n",
       "    </tr>\n",
       "  </thead>\n",
       "  <tbody>\n",
       "    <tr>\n",
       "      <th rowspan=\"10\" valign=\"top\">19</th>\n",
       "      <th>가구/인테리어</th>\n",
       "      <td>59247</td>\n",
       "    </tr>\n",
       "    <tr>\n",
       "      <th>도서/음반</th>\n",
       "      <td>109625</td>\n",
       "    </tr>\n",
       "    <tr>\n",
       "      <th>디지털/가전</th>\n",
       "      <td>147290</td>\n",
       "    </tr>\n",
       "    <tr>\n",
       "      <th>생활건강</th>\n",
       "      <td>285831</td>\n",
       "    </tr>\n",
       "    <tr>\n",
       "      <th>스포츠/레저</th>\n",
       "      <td>20479</td>\n",
       "    </tr>\n",
       "    <tr>\n",
       "      <th>식품</th>\n",
       "      <td>346356</td>\n",
       "    </tr>\n",
       "    <tr>\n",
       "      <th>출산/육아</th>\n",
       "      <td>7001</td>\n",
       "    </tr>\n",
       "    <tr>\n",
       "      <th>패션의류</th>\n",
       "      <td>341614</td>\n",
       "    </tr>\n",
       "    <tr>\n",
       "      <th>패션잡화</th>\n",
       "      <td>138222</td>\n",
       "    </tr>\n",
       "    <tr>\n",
       "      <th>화장품/미용</th>\n",
       "      <td>190536</td>\n",
       "    </tr>\n",
       "    <tr>\n",
       "      <th rowspan=\"10\" valign=\"top\">20</th>\n",
       "      <th>가구/인테리어</th>\n",
       "      <td>69816</td>\n",
       "    </tr>\n",
       "    <tr>\n",
       "      <th>도서/음반</th>\n",
       "      <td>131291</td>\n",
       "    </tr>\n",
       "    <tr>\n",
       "      <th>디지털/가전</th>\n",
       "      <td>171233</td>\n",
       "    </tr>\n",
       "    <tr>\n",
       "      <th>생활건강</th>\n",
       "      <td>393351</td>\n",
       "    </tr>\n",
       "    <tr>\n",
       "      <th>스포츠/레저</th>\n",
       "      <td>22286</td>\n",
       "    </tr>\n",
       "    <tr>\n",
       "      <th>식품</th>\n",
       "      <td>475181</td>\n",
       "    </tr>\n",
       "    <tr>\n",
       "      <th>출산/육아</th>\n",
       "      <td>6570</td>\n",
       "    </tr>\n",
       "    <tr>\n",
       "      <th>패션의류</th>\n",
       "      <td>352606</td>\n",
       "    </tr>\n",
       "    <tr>\n",
       "      <th>패션잡화</th>\n",
       "      <td>147667</td>\n",
       "    </tr>\n",
       "    <tr>\n",
       "      <th>화장품/미용</th>\n",
       "      <td>203814</td>\n",
       "    </tr>\n",
       "  </tbody>\n",
       "</table>\n",
       "</div>"
      ],
      "text/plain": [
       "                    INVC_CONT\n",
       "DL_Y DL_GD_LCLS_NM           \n",
       "19   가구/인테리어            59247\n",
       "     도서/음반             109625\n",
       "     디지털/가전            147290\n",
       "     생활건강              285831\n",
       "     스포츠/레저             20479\n",
       "     식품                346356\n",
       "     출산/육아               7001\n",
       "     패션의류              341614\n",
       "     패션잡화              138222\n",
       "     화장품/미용            190536\n",
       "20   가구/인테리어            69816\n",
       "     도서/음반             131291\n",
       "     디지털/가전            171233\n",
       "     생활건강              393351\n",
       "     스포츠/레저             22286\n",
       "     식품                475181\n",
       "     출산/육아               6570\n",
       "     패션의류              352606\n",
       "     패션잡화              147667\n",
       "     화장품/미용            203814"
      ]
     },
     "execution_count": 186,
     "metadata": {},
     "output_type": "execute_result"
    }
   ],
   "source": [
    "SG = df_SG.pivot_table(index=['DL_Y','DL_GD_LCLS_NM'],values='INVC_CONT',aggfunc='sum') # 평균값 궁금한게 평균값으로 해야하는지 sum으로 해야하는지 잘 모르겠음\n",
    "SG"
   ]
  },
  {
   "cell_type": "code",
   "execution_count": 204,
   "metadata": {},
   "outputs": [
    {
     "data": {
      "text/html": [
       "<div>\n",
       "<style scoped>\n",
       "    .dataframe tbody tr th:only-of-type {\n",
       "        vertical-align: middle;\n",
       "    }\n",
       "\n",
       "    .dataframe tbody tr th {\n",
       "        vertical-align: top;\n",
       "    }\n",
       "\n",
       "    .dataframe thead th {\n",
       "        text-align: right;\n",
       "    }\n",
       "</style>\n",
       "<table border=\"1\" class=\"dataframe\">\n",
       "  <thead>\n",
       "    <tr style=\"text-align: right;\">\n",
       "      <th></th>\n",
       "      <th>DL_GD_LCLS_NM</th>\n",
       "      <th>InCrease</th>\n",
       "    </tr>\n",
       "  </thead>\n",
       "  <tbody>\n",
       "    <tr>\n",
       "      <th>3</th>\n",
       "      <td>생활건강</td>\n",
       "      <td>37.616634</td>\n",
       "    </tr>\n",
       "    <tr>\n",
       "      <th>5</th>\n",
       "      <td>식품</td>\n",
       "      <td>37.194390</td>\n",
       "    </tr>\n",
       "    <tr>\n",
       "      <th>1</th>\n",
       "      <td>도서/음반</td>\n",
       "      <td>19.763740</td>\n",
       "    </tr>\n",
       "    <tr>\n",
       "      <th>0</th>\n",
       "      <td>가구/인테리어</td>\n",
       "      <td>17.838878</td>\n",
       "    </tr>\n",
       "    <tr>\n",
       "      <th>2</th>\n",
       "      <td>디지털/가전</td>\n",
       "      <td>16.255686</td>\n",
       "    </tr>\n",
       "    <tr>\n",
       "      <th>4</th>\n",
       "      <td>스포츠/레저</td>\n",
       "      <td>8.823673</td>\n",
       "    </tr>\n",
       "    <tr>\n",
       "      <th>9</th>\n",
       "      <td>화장품/미용</td>\n",
       "      <td>6.968762</td>\n",
       "    </tr>\n",
       "    <tr>\n",
       "      <th>8</th>\n",
       "      <td>패션잡화</td>\n",
       "      <td>6.833210</td>\n",
       "    </tr>\n",
       "    <tr>\n",
       "      <th>7</th>\n",
       "      <td>패션의류</td>\n",
       "      <td>3.217667</td>\n",
       "    </tr>\n",
       "    <tr>\n",
       "      <th>6</th>\n",
       "      <td>출산/육아</td>\n",
       "      <td>-6.156263</td>\n",
       "    </tr>\n",
       "  </tbody>\n",
       "</table>\n",
       "</div>"
      ],
      "text/plain": [
       "  DL_GD_LCLS_NM   InCrease\n",
       "3          생활건강  37.616634\n",
       "5            식품  37.194390\n",
       "1         도서/음반  19.763740\n",
       "0       가구/인테리어  17.838878\n",
       "2        디지털/가전  16.255686\n",
       "4        스포츠/레저   8.823673\n",
       "9        화장품/미용   6.968762\n",
       "8          패션잡화   6.833210\n",
       "7          패션의류   3.217667\n",
       "6         출산/육아  -6.156263"
      ]
     },
     "execution_count": 204,
     "metadata": {},
     "output_type": "execute_result"
    }
   ],
   "source": [
    "#SG_CL = pd.DataFrame(SG.reset_index()[SG.reset_index()['DL_Y']=='19']['DL_GD_LCLS_NM'])\n",
    "a = []\n",
    "for i in range(0,10):\n",
    "    a.append((SG.iloc[(10+i),0]-SG.iloc[(i),0])/SG.iloc[(i),0]*100)\n",
    "#오히려 감소 한 것이 나타났음\n",
    "SG_CL = pd.DataFrame(SG.reset_index()[SG.reset_index()['DL_Y']=='19']['DL_GD_LCLS_NM'])\n",
    "SG_CL['InCrease'] = a\n",
    "SG_CL.sort_values(by='InCrease',ascending=False)"
   ]
  },
  {
   "cell_type": "code",
   "execution_count": 206,
   "metadata": {},
   "outputs": [
    {
     "data": {
      "text/plain": [
       "<matplotlib.axes._subplots.AxesSubplot at 0x200a9699a08>"
      ]
     },
     "execution_count": 206,
     "metadata": {},
     "output_type": "execute_result"
    },
    {
     "data": {
      "image/png": "[encoded data removed]",
      "text/plain": [
       "<Figure size 432x288 with 1 Axes>"
      ]
     },
     "metadata": {
      "needs_background": "light"
     },
     "output_type": "display_data"
    }
   ],
   "source": [
    "plt.xticks(rotation=60)\n",
    "sns.barplot(data=SG_CL, x='DL_GD_LCLS_NM',y='InCrease')"
   ]
  },
  {
   "cell_type": "code",
   "execution_count": 208,
   "metadata": {},
   "outputs": [
    {
     "data": {
      "text/plain": [
       "<matplotlib.axes._subplots.AxesSubplot at 0x200a97e7cc8>"
      ]
     },
     "execution_count": 208,
     "metadata": {},
     "output_type": "execute_result"
    },
    {
     "data": {
      "image/png": "[encoded data removed]",
      "text/plain": [
       "<Figure size 1080x432 with 1 Axes>"
      ]
     },
     "metadata": {
      "needs_background": "light"
     },
     "output_type": "display_data"
    }
   ],
   "source": [
    "df_DG = df[df['CTPVGG']=='대구광역시 중구']\n",
    "plt.figure(figsize=(15,6))\n",
    "sns.barplot(data=df_DG,x='DL_GD_LCLS_NM',y='INVC_CONT',hue='DL_Y')"
   ]
  },
  {
   "cell_type": "code",
   "execution_count": 211,
   "metadata": {},
   "outputs": [
    {
     "data": {
      "text/html": [
       "<div>\n",
       "<style scoped>\n",
       "    .dataframe tbody tr th:only-of-type {\n",
       "        vertical-align: middle;\n",
       "    }\n",
       "\n",
       "    .dataframe tbody tr th {\n",
       "        vertical-align: top;\n",
       "    }\n",
       "\n",
       "    .dataframe thead th {\n",
       "        text-align: right;\n",
       "    }\n",
       "</style>\n",
       "<table border=\"1\" class=\"dataframe\">\n",
       "  <thead>\n",
       "    <tr style=\"text-align: right;\">\n",
       "      <th></th>\n",
       "      <th>DL_GD_LCLS_NM</th>\n",
       "      <th>InCrease</th>\n",
       "    </tr>\n",
       "  </thead>\n",
       "  <tbody>\n",
       "    <tr>\n",
       "      <th>5</th>\n",
       "      <td>식품</td>\n",
       "      <td>52.568265</td>\n",
       "    </tr>\n",
       "    <tr>\n",
       "      <th>3</th>\n",
       "      <td>생활건강</td>\n",
       "      <td>32.583474</td>\n",
       "    </tr>\n",
       "    <tr>\n",
       "      <th>4</th>\n",
       "      <td>스포츠/레저</td>\n",
       "      <td>21.605023</td>\n",
       "    </tr>\n",
       "    <tr>\n",
       "      <th>1</th>\n",
       "      <td>도서/음반</td>\n",
       "      <td>19.687322</td>\n",
       "    </tr>\n",
       "    <tr>\n",
       "      <th>6</th>\n",
       "      <td>출산/육아</td>\n",
       "      <td>18.953121</td>\n",
       "    </tr>\n",
       "    <tr>\n",
       "      <th>2</th>\n",
       "      <td>디지털/가전</td>\n",
       "      <td>17.741318</td>\n",
       "    </tr>\n",
       "    <tr>\n",
       "      <th>0</th>\n",
       "      <td>가구/인테리어</td>\n",
       "      <td>14.180607</td>\n",
       "    </tr>\n",
       "    <tr>\n",
       "      <th>9</th>\n",
       "      <td>화장품/미용</td>\n",
       "      <td>8.610604</td>\n",
       "    </tr>\n",
       "    <tr>\n",
       "      <th>7</th>\n",
       "      <td>패션의류</td>\n",
       "      <td>5.330399</td>\n",
       "    </tr>\n",
       "    <tr>\n",
       "      <th>8</th>\n",
       "      <td>패션잡화</td>\n",
       "      <td>-2.399536</td>\n",
       "    </tr>\n",
       "  </tbody>\n",
       "</table>\n",
       "</div>"
      ],
      "text/plain": [
       "  DL_GD_LCLS_NM   InCrease\n",
       "5            식품  52.568265\n",
       "3          생활건강  32.583474\n",
       "4        스포츠/레저  21.605023\n",
       "1         도서/음반  19.687322\n",
       "6         출산/육아  18.953121\n",
       "2        디지털/가전  17.741318\n",
       "0       가구/인테리어  14.180607\n",
       "9        화장품/미용   8.610604\n",
       "7          패션의류   5.330399\n",
       "8          패션잡화  -2.399536"
      ]
     },
     "execution_count": 211,
     "metadata": {},
     "output_type": "execute_result"
    }
   ],
   "source": [
    "DG = df_DG.pivot_table(index=['DL_Y','DL_GD_LCLS_NM'],values='INVC_CONT',aggfunc='sum')\n",
    "a = []\n",
    "for i in range(0,10):\n",
    "    a.append((DG.iloc[(10+i),0]-DG.iloc[(i),0])/DG.iloc[(i),0]*100)\n",
    "#오히려 감소 한 것이 나타났음\n",
    "DG_CL = pd.DataFrame(DG.reset_index()[DG.reset_index()['DL_Y']=='19']['DL_GD_LCLS_NM'])\n",
    "DG_CL['InCrease'] = a\n",
    "DG_CL.sort_values(by='InCrease',ascending=False)\n",
    "# 여기서는 신기한게 스포츠 레저가 더 많이 구입된 것을 알 수 있다"
   ]
  },
  {
   "cell_type": "code",
   "execution_count": 212,
   "metadata": {},
   "outputs": [
    {
     "data": {
      "text/plain": [
       "<matplotlib.axes._subplots.AxesSubplot at 0x200aad51e08>"
      ]
     },
     "execution_count": 212,
     "metadata": {},
     "output_type": "execute_result"
    },
    {
     "data": {
      "image/png": "[encoded data removed]",
      "text/plain": [
       "<Figure size 432x288 with 1 Axes>"
      ]
     },
     "metadata": {
      "needs_background": "light"
     },
     "output_type": "display_data"
    }
   ],
   "source": [
    "plt.xticks(rotation=60)\n",
    "sns.barplot(data=DG_CL, x='DL_GD_LCLS_NM',y='InCrease')"
   ]
  },
  {
   "cell_type": "code",
   "execution_count": 213,
   "metadata": {},
   "outputs": [
    {
     "data": {
      "text/plain": [
       "<matplotlib.axes._subplots.AxesSubplot at 0x200b085fe88>"
      ]
     },
     "execution_count": 213,
     "metadata": {},
     "output_type": "execute_result"
    },
    {
     "data": {
      "image/png": "[encoded data removed]",
      "text/plain": [
       "<Figure size 1080x432 with 1 Axes>"
      ]
     },
     "metadata": {
      "needs_background": "light"
     },
     "output_type": "display_data"
    }
   ],
   "source": [
    "df_SN = df[df['CTPVGG']=='서울특별시 노원구']\n",
    "plt.figure(figsize=(15,6))\n",
    "sns.barplot(data=df_SN,x='DL_GD_LCLS_NM',y='INVC_CONT',hue='DL_Y')"
   ]
  },
  {
   "cell_type": "code",
   "execution_count": 214,
   "metadata": {},
   "outputs": [
    {
     "data": {
      "text/html": [
       "<div>\n",
       "<style scoped>\n",
       "    .dataframe tbody tr th:only-of-type {\n",
       "        vertical-align: middle;\n",
       "    }\n",
       "\n",
       "    .dataframe tbody tr th {\n",
       "        vertical-align: top;\n",
       "    }\n",
       "\n",
       "    .dataframe thead th {\n",
       "        text-align: right;\n",
       "    }\n",
       "</style>\n",
       "<table border=\"1\" class=\"dataframe\">\n",
       "  <thead>\n",
       "    <tr style=\"text-align: right;\">\n",
       "      <th></th>\n",
       "      <th>DL_GD_LCLS_NM</th>\n",
       "      <th>InCrease</th>\n",
       "    </tr>\n",
       "  </thead>\n",
       "  <tbody>\n",
       "    <tr>\n",
       "      <th>3</th>\n",
       "      <td>생활건강</td>\n",
       "      <td>53.342259</td>\n",
       "    </tr>\n",
       "    <tr>\n",
       "      <th>5</th>\n",
       "      <td>식품</td>\n",
       "      <td>51.196346</td>\n",
       "    </tr>\n",
       "    <tr>\n",
       "      <th>1</th>\n",
       "      <td>도서/음반</td>\n",
       "      <td>39.879774</td>\n",
       "    </tr>\n",
       "    <tr>\n",
       "      <th>0</th>\n",
       "      <td>가구/인테리어</td>\n",
       "      <td>35.702945</td>\n",
       "    </tr>\n",
       "    <tr>\n",
       "      <th>2</th>\n",
       "      <td>디지털/가전</td>\n",
       "      <td>28.405597</td>\n",
       "    </tr>\n",
       "    <tr>\n",
       "      <th>4</th>\n",
       "      <td>스포츠/레저</td>\n",
       "      <td>21.693189</td>\n",
       "    </tr>\n",
       "    <tr>\n",
       "      <th>9</th>\n",
       "      <td>화장품/미용</td>\n",
       "      <td>14.844809</td>\n",
       "    </tr>\n",
       "    <tr>\n",
       "      <th>7</th>\n",
       "      <td>패션의류</td>\n",
       "      <td>12.647442</td>\n",
       "    </tr>\n",
       "    <tr>\n",
       "      <th>6</th>\n",
       "      <td>출산/육아</td>\n",
       "      <td>11.232907</td>\n",
       "    </tr>\n",
       "    <tr>\n",
       "      <th>8</th>\n",
       "      <td>패션잡화</td>\n",
       "      <td>6.113766</td>\n",
       "    </tr>\n",
       "  </tbody>\n",
       "</table>\n",
       "</div>"
      ],
      "text/plain": [
       "  DL_GD_LCLS_NM   InCrease\n",
       "3          생활건강  53.342259\n",
       "5            식품  51.196346\n",
       "1         도서/음반  39.879774\n",
       "0       가구/인테리어  35.702945\n",
       "2        디지털/가전  28.405597\n",
       "4        스포츠/레저  21.693189\n",
       "9        화장품/미용  14.844809\n",
       "7          패션의류  12.647442\n",
       "6         출산/육아  11.232907\n",
       "8          패션잡화   6.113766"
      ]
     },
     "execution_count": 214,
     "metadata": {},
     "output_type": "execute_result"
    }
   ],
   "source": [
    "SN = df_SN.pivot_table(index=['DL_Y','DL_GD_LCLS_NM'],values='INVC_CONT',aggfunc='sum') # 평균값 궁금한게 평균값으로 해야하는지 sum으로 해야하는지 잘 모르겠음\n",
    "a = []\n",
    "for i in range(0,10):\n",
    "    a.append((SN.iloc[(10+i),0]-SN.iloc[(i),0])/SN.iloc[(i),0]*100)\n",
    "#오히려 감소 한 것이 나타났음\n",
    "SN_CL = pd.DataFrame(SN.reset_index()[SN.reset_index()['DL_Y']=='19']['DL_GD_LCLS_NM'])\n",
    "SN_CL['InCrease'] = a\n",
    "SN_CL.sort_values(by='InCrease',ascending=False)"
   ]
  },
  {
   "cell_type": "code",
   "execution_count": 215,
   "metadata": {},
   "outputs": [
    {
     "data": {
      "text/plain": [
       "<matplotlib.axes._subplots.AxesSubplot at 0x200b192f3c8>"
      ]
     },
     "execution_count": 215,
     "metadata": {},
     "output_type": "execute_result"
    },
    {
     "data": {
      "image/png": "[encoded data removed]",
      "text/plain": [
       "<Figure size 432x288 with 1 Axes>"
      ]
     },
     "metadata": {
      "needs_background": "light"
     },
     "output_type": "display_data"
    }
   ],
   "source": [
    "plt.xticks(rotation=60)\n",
    "sns.barplot(data=SN_CL, x='DL_GD_LCLS_NM',y='InCrease')"
   ]
  },
  {
   "cell_type": "code",
   "execution_count": null,
   "metadata": {},
   "outputs": [],
   "source": [
    "## 어느 지역에 어느 상품이 증가했는지 유추해보는 시간을 갖기"
   ]
  },
  {
   "cell_type": "code",
   "execution_count": null,
   "metadata": {},
   "outputs": [],
   "source": [
    "## 소비가 증가한 이유를 유추 해보기"
   ]
  },
  {
   "cell_type": "code",
   "execution_count": 105,
   "metadata": {},
   "outputs": [],
   "source": [
    "## 그 이후에 코로나와 연관해서 찾을 필요가 있음"
   ]
  }
 ],
 "metadata": {
  "kernelspec": {
   "display_name": "Python 3",
   "language": "python",
   "name": "python3"
  },
  "language_info": {
   "codemirror_mode": {
    "name": "ipython",
    "version": 3
   },
   "file_extension": ".py",
   "mimetype": "text/x-python",
   "name": "python",
   "nbconvert_exporter": "python",
   "pygments_lexer": "ipython3",
   "version": "3.7.6"
  }
 },
 "nbformat": 4,
 "nbformat_minor": 4
}
